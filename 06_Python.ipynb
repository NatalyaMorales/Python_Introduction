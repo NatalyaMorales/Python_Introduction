{
  "nbformat": 4,
  "nbformat_minor": 0,
  "metadata": {
    "colab": {
      "provenance": [],
      "toc_visible": true
    },
    "kernelspec": {
      "name": "python3",
      "display_name": "Python 3"
    },
    "language_info": {
      "name": "python"
    }
  },
  "cells": [
    {
      "cell_type": "markdown",
      "source": [
        "# Fundamentos de Python: Módulo 6\n",
        "\n",
        "Natalya Morales\\\n",
        "Septiembre, 2025\n",
        "\n",
        "En este sexto módulo veremos Programación Orientada a Objetos, todos sus conceptos básicos y principios."
      ],
      "metadata": {
        "id": "no_UT6sXzsiZ"
      }
    },
    {
      "cell_type": "markdown",
      "source": [
        "## 1. Introducción y Conceptos básicos\n",
        "\n",
        "La Programación Prientada a Pbjetos (POO) es muy amplia y es digna de su propio curso, pero para poder continuar con los básicos de python es importante comprender los conceptos y funcionamientos básicos de la Programación Orientada a Objetos. En terminos simples, la POO es un paradigma de programación que organiza el código en objetos."
      ],
      "metadata": {
        "id": "s2NBGDCnz0c1"
      }
    },
    {
      "cell_type": "markdown",
      "source": [
        "### 1.1 Clase\n",
        "\n",
        "Podemos ver a una clase como un 'molde' para crear objetos."
      ],
      "metadata": {
        "id": "QkOB4De81Rme"
      }
    },
    {
      "cell_type": "markdown",
      "source": [
        "### 1.2 Objetos\n",
        "\n",
        "Un objeto es una entidad que combina:\n",
        "- Atributos: características del objeto\n",
        "- Métodos: funciones dentro de la clase que describen comportamientos de los objetos.\n",
        "\n",
        "**Ejemplo:**\\\n",
        "*Objeto:*\n",
        "- Perro\n",
        "\n",
        "*Atributos:*\n",
        "- Nombre\n",
        "- Raza\n",
        "- Edad\n",
        "\n",
        "*Métodos:*\n",
        "- Ladrar\n",
        "- Comer\n",
        "- Correr"
      ],
      "metadata": {
        "id": "xuda9YX60fQV"
      }
    },
    {
      "cell_type": "markdown",
      "source": [
        "### 1.3 Constructor\n",
        "\n",
        "Es un método especial que se ejecuta automáticamente cuando se crea un objeto. Se usa para inicializar atributos.\n",
        "\n",
        "Se crea de la forma:\n",
        "```\n",
        "def __init__():\n",
        "    self.atributo1 = atributo1\n",
        "    self.atributo2 = atributo2\n",
        "```"
      ],
      "metadata": {
        "id": "yDGOuugb1fKV"
      }
    },
    {
      "cell_type": "markdown",
      "source": [
        "## 1. 4 Ejemplo\n",
        "\n",
        "Veamos un ejemplo con estos primeros conceptos"
      ],
      "metadata": {
        "id": "Q7K6DCRD2JvM"
      }
    },
    {
      "cell_type": "code",
      "execution_count": 1,
      "metadata": {
        "id": "IQ4OfXsLzUYt"
      },
      "outputs": [],
      "source": [
        "# Inicializar la clase\n",
        "class Perro:\n",
        "\n",
        "    # Crear el contructor\n",
        "    def __init__(self, nombre, raza, edad):\n",
        "        # Inicializar los atributos\n",
        "        self.nombre = nombre\n",
        "        self.raza = raza\n",
        "        self.edad = edad\n",
        "\n",
        "    # Crear métodos\n",
        "    def ladrar(self):\n",
        "        print(\"Guau, soy\", self.nombre)\n",
        "\n",
        "    def comer(self):\n",
        "        print(\"Comiendo...\")\n",
        "\n",
        "    def correr(self):\n",
        "        print(\"Corriendo...\")"
      ]
    },
    {
      "cell_type": "markdown",
      "source": [
        "**Extra:** A diferencia de las funciones, los métodos necesitan tener como entrada *self* para poder hacer referencia al propio objeto y acceder o modificar sus atributos y métodos internos, pero también pueden tener otras variables de entrada que no sean atributos del objeto.\n",
        "\n",
        "Ya que tenemos nuestro molde, podemos crear un objeto con este molde."
      ],
      "metadata": {
        "id": "2gxf08Ks2y29"
      }
    },
    {
      "cell_type": "code",
      "source": [
        "# Crear el objeto\n",
        "mi_perro = Perro(\"Puchu\", \"Pug\", 5)"
      ],
      "metadata": {
        "id": "Tq9XHjsd3DS0"
      },
      "execution_count": 6,
      "outputs": []
    },
    {
      "cell_type": "code",
      "source": [
        "# Utilizar sus métodos\n",
        "mi_perro.ladrar()\n",
        "mi_perro.comer()\n",
        "mi_perro.correr()"
      ],
      "metadata": {
        "colab": {
          "base_uri": "https://localhost:8080/"
        },
        "id": "41SaozDh3ezG",
        "outputId": "40b92e13-d73f-48e9-987b-ddc5510eee00"
      },
      "execution_count": 7,
      "outputs": [
        {
          "output_type": "stream",
          "name": "stdout",
          "text": [
            "Guau, soy Puchu\n",
            "Comiendo...\n",
            "Corriendo...\n"
          ]
        }
      ]
    },
    {
      "cell_type": "markdown",
      "source": [
        "Tal vez pueda parecer 'inútil' utilizar clases, pero los objetos nos permiten simular entidades de la vida real. Además, como otras funciones, nos permiten tener un código ordenado, reutilizable y escalable."
      ],
      "metadata": {
        "id": "GFWUAKXc3-g5"
      }
    },
    {
      "cell_type": "markdown",
      "source": [
        "## 2. Principios de la POO y otros conceptos"
      ],
      "metadata": {
        "id": "9FvZisHY3-Oz"
      }
    },
    {
      "cell_type": "markdown",
      "source": [
        "### 2.1 Encapsulamiento\n",
        "\n",
        "Te permite controlar el acceso a los atributos:\n",
        "- Públicos: accesibles desde afuera de la clase\n",
        "- Privados: solo se puede acceder en la clase, usan guión bajo simple (_) o doble (__)"
      ],
      "metadata": {
        "id": "jMlf8bMC4hfd"
      }
    },
    {
      "cell_type": "code",
      "source": [
        "class CuentaBancaria:\n",
        "\n",
        "    # Constructor\n",
        "    def __init__(self, titular, saldo):\n",
        "        self.titular = titular # Público\n",
        "        self.__saldo = saldo  # Privado\n",
        "\n",
        "    # Métodos\n",
        "    def depositar(self, cantidad):\n",
        "        self.__saldo += cantidad\n",
        "\n",
        "    def mostrar_saldo(self):\n",
        "        print(\"Saldo actual:\", self.__saldo)\n"
      ],
      "metadata": {
        "id": "Kas9WBZ44hFS"
      },
      "execution_count": 20,
      "outputs": []
    },
    {
      "cell_type": "markdown",
      "source": [
        "Veamos un ejemplo...\n",
        "\n",
        "En este caso creo mi cuenta con mi nombre, y con mi saldo inicial"
      ],
      "metadata": {
        "id": "wkH_r8-G68rS"
      }
    },
    {
      "cell_type": "code",
      "source": [
        "mi_cuenta = CuentaBancaria(\"Natalya\", 1000)"
      ],
      "metadata": {
        "id": "5KP1OSjs6O6D"
      },
      "execution_count": 21,
      "outputs": []
    },
    {
      "cell_type": "code",
      "source": [
        "mi_cuenta.mostrar_saldo()"
      ],
      "metadata": {
        "colab": {
          "base_uri": "https://localhost:8080/"
        },
        "id": "RE2eB0706iu5",
        "outputId": "b3419889-d880-4ed9-92e7-3b445d63665c"
      },
      "execution_count": 22,
      "outputs": [
        {
          "output_type": "stream",
          "name": "stdout",
          "text": [
            "Saldo actual: 1000\n"
          ]
        }
      ]
    },
    {
      "cell_type": "markdown",
      "source": [
        "Veamos que si uso el método de mostrar mi saldo, me da mi saldo inicial, pero ¿qué pasa después?\n",
        "\n",
        "Si yo quiero editar mi nombre, lo puedo hacer de la siguiente forma:"
      ],
      "metadata": {
        "id": "CNgWcCDM7Cn3"
      }
    },
    {
      "cell_type": "code",
      "source": [
        "mi_cuenta.titular = \"Natalya Morales\""
      ],
      "metadata": {
        "id": "HrOo9D-Q60SU"
      },
      "execution_count": 23,
      "outputs": []
    },
    {
      "cell_type": "markdown",
      "source": [
        "Pero si yo quiero editar mi saldo así por que si, no debería poder:"
      ],
      "metadata": {
        "id": "h_c-0LFG7HjT"
      }
    },
    {
      "cell_type": "code",
      "source": [
        "mi_cuenta.saldo = 2000"
      ],
      "metadata": {
        "id": "U4TvS5H163Rx"
      },
      "execution_count": 24,
      "outputs": []
    },
    {
      "cell_type": "markdown",
      "source": [
        "Parece ser que sí me lo permite, pero si yo vuelvo a consultar mi saldo..."
      ],
      "metadata": {
        "id": "MpUju6467r7L"
      }
    },
    {
      "cell_type": "code",
      "source": [
        "mi_cuenta.mostrar_saldo()"
      ],
      "metadata": {
        "colab": {
          "base_uri": "https://localhost:8080/"
        },
        "id": "Pm4STEsM8NKg",
        "outputId": "b5a91ff9-30b1-47a5-be86-91fdfc1f0cb3"
      },
      "execution_count": 25,
      "outputs": [
        {
          "output_type": "stream",
          "name": "stdout",
          "text": [
            "Saldo actual: 1000\n"
          ]
        }
      ]
    },
    {
      "cell_type": "markdown",
      "source": [
        "Continua con el saldo inicial. Si yo quiero actualizar mi saldo, puedo utilizar el método ya creado:\n"
      ],
      "metadata": {
        "id": "ImsjP3kM9met"
      }
    },
    {
      "cell_type": "code",
      "source": [
        "mi_cuenta.depositar(1000)\n",
        "mi_cuenta.mostrar_saldo()"
      ],
      "metadata": {
        "colab": {
          "base_uri": "https://localhost:8080/"
        },
        "id": "dOGyVB2H9eOR",
        "outputId": "e6d03507-20be-4567-9d4e-10b58d99cd5e"
      },
      "execution_count": 26,
      "outputs": [
        {
          "output_type": "stream",
          "name": "stdout",
          "text": [
            "Saldo actual: 2000\n"
          ]
        }
      ]
    },
    {
      "cell_type": "markdown",
      "source": [
        "**En Resumen:** Te permiten modificar y controlar atributos unicamente con el control de los métodos de las funciones"
      ],
      "metadata": {
        "id": "z7pfA9Gl8O41"
      }
    },
    {
      "cell_type": "markdown",
      "source": [
        "### 2.2 Getters y Setters\n",
        "\n",
        "Estos son unos de los métodos más comunes y más utilizados a la hora se hacer una clase.\n",
        "\n",
        "**Getter:**\\\n",
        "Es el método que te ayuda a obtener el valor de un atributo. Solo regresa el valor del atributo:\n",
        "```\n",
        "def get_atributo(self):\n",
        "        return self.__atributo\n",
        "```\n",
        "\n",
        "**Setter:**\\\n",
        "Es el método que te permite actualizar el valor del atributo.\n",
        "```\n",
        "def set_atributo(self, nuevo_valor):\n",
        "        self.__atributo = nuevo_valor\n",
        "```\n",
        "\n",
        "Veamos un ejemplo..."
      ],
      "metadata": {
        "id": "JQxldYpi9umK"
      }
    },
    {
      "cell_type": "code",
      "source": [
        "class Perro:\n",
        "\n",
        "    def __init__(self, nombre, raza, edad):\n",
        "        self.__nombre = nombre\n",
        "        self.__raza = raza\n",
        "        self.__edad = edad\n",
        "\n",
        "    def set_edad(self, nueva_edad):\n",
        "        self.__edad = nueva_edad\n",
        "\n",
        "    def get_edad(self):\n",
        "        return self.__edad\n"
      ],
      "metadata": {
        "id": "BgJdyfTa8jnW"
      },
      "execution_count": 43,
      "outputs": []
    },
    {
      "cell_type": "code",
      "source": [
        "# Crear el objeto\n",
        "mi_perro = Perro(\"Puchu\", \"Pug\", 4)"
      ],
      "metadata": {
        "id": "sJB0B1bF_cg-"
      },
      "execution_count": 44,
      "outputs": []
    },
    {
      "cell_type": "code",
      "source": [
        "print(\"¿Cuántos años tiene mi perro?\")\n",
        "mi_perro.get_edad()"
      ],
      "metadata": {
        "colab": {
          "base_uri": "https://localhost:8080/"
        },
        "id": "yVbB3gXH_hyj",
        "outputId": "840a4e40-5458-4c73-de94-171f50c49cba"
      },
      "execution_count": 45,
      "outputs": [
        {
          "output_type": "stream",
          "name": "stdout",
          "text": [
            "¿Cuántos años tiene mi perro?\n"
          ]
        },
        {
          "output_type": "execute_result",
          "data": {
            "text/plain": [
              "4"
            ]
          },
          "metadata": {},
          "execution_count": 45
        }
      ]
    },
    {
      "cell_type": "code",
      "source": [
        "print(\"¡Hoy es cumpleaños de mi perro!\")\n",
        "mi_perro.set_edad(5)\n",
        "mi_perro.get_edad()"
      ],
      "metadata": {
        "colab": {
          "base_uri": "https://localhost:8080/"
        },
        "id": "kjJvdL45Aa-Q",
        "outputId": "9f1be41c-7fbd-46f0-9764-f351607d11cd"
      },
      "execution_count": 46,
      "outputs": [
        {
          "output_type": "stream",
          "name": "stdout",
          "text": [
            "¡Hoy es cumpleaños de mi perro!\n"
          ]
        },
        {
          "output_type": "execute_result",
          "data": {
            "text/plain": [
              "5"
            ]
          },
          "metadata": {},
          "execution_count": 46
        }
      ]
    },
    {
      "cell_type": "markdown",
      "source": [
        "Podemos usar también estos métodos (en especial el **Set**) para validar nuestros datos, es decirm permitir que los atributos se actualicen solo bajo ciertas condiciones."
      ],
      "metadata": {
        "id": "ljzrS4JpBhYd"
      }
    },
    {
      "cell_type": "code",
      "source": [
        "class Perro:\n",
        "\n",
        "    def __init__(self, nombre, raza, edad):\n",
        "        self.__nombre = nombre\n",
        "        self.__raza = raza\n",
        "        self.__edad = edad\n",
        "\n",
        "    def set_edad(self, nueva_edad):\n",
        "        if nueva_edad > self.__edad:\n",
        "            self.__edad = nueva_edad\n",
        "\n",
        "    def get_edad(self):\n",
        "        return self.__edad"
      ],
      "metadata": {
        "id": "QGjCnPcFBgHq"
      },
      "execution_count": 49,
      "outputs": []
    },
    {
      "cell_type": "markdown",
      "source": [
        "En esta nueva modificación, nuestro *setter* solo permite actualizar la edad si es positiva."
      ],
      "metadata": {
        "id": "pQrALpigB3CV"
      }
    },
    {
      "cell_type": "code",
      "source": [
        "# Crear el objeto\n",
        "mi_perro = Perro(\"Puchu\", \"Pug\", 4)"
      ],
      "metadata": {
        "id": "E8Bc5VDpCD5m"
      },
      "execution_count": 50,
      "outputs": []
    },
    {
      "cell_type": "code",
      "source": [
        "print(\"¡Hoy es cumpleaños de mi perro!\")\n",
        "mi_perro.set_edad(-5)\n",
        "mi_perro.get_edad()"
      ],
      "metadata": {
        "colab": {
          "base_uri": "https://localhost:8080/"
        },
        "id": "05OLRQ8xB2dv",
        "outputId": "d7127c8a-d916-444b-bc16-2bb837499192"
      },
      "execution_count": 51,
      "outputs": [
        {
          "output_type": "stream",
          "name": "stdout",
          "text": [
            "¡Hoy es cumpleaños de mi perro!\n"
          ]
        },
        {
          "output_type": "execute_result",
          "data": {
            "text/plain": [
              "4"
            ]
          },
          "metadata": {},
          "execution_count": 51
        }
      ]
    },
    {
      "cell_type": "markdown",
      "source": [
        "No actualizó la edad por ser negativa!"
      ],
      "metadata": {
        "id": "KytqNXbYCF3r"
      }
    },
    {
      "cell_type": "markdown",
      "source": [
        "### 2.3 Herencia\n",
        "\n",
        "De forma general, permite que una clase (que llamaremos **hija**) herede atributos y métodos de otra clase (que llamaremos **padre**). Esto es especialmente útil con clases que van a compartir atributos y métodos.\n",
        "\n",
        "Para determinar que una clase es *hija* se escribirá de la siguiente forma\n",
        "```\n",
        "class Padre:\n",
        "    # Constructor\n",
        "    def __init__(self, atributo):\n",
        "        self.atributo = atributo\n",
        "\n",
        "    # Métodos de la clase...\n",
        "\n",
        "class Hija(Padre):\n",
        "    # Constructor\n",
        "    def __init__(self, atributo_heredado, atributo_propio):\n",
        "        super().__init__(atributo_heredado)\n",
        "        self.atributo_propio = atributo_propio\n",
        "\n",
        "    # Métodos de la clase...\n",
        "```\n",
        "\n"
      ],
      "metadata": {
        "id": "HCmYTtGuCYGL"
      }
    },
    {
      "cell_type": "code",
      "source": [
        "class Animal:\n",
        "    def __init__(self, nombre):\n",
        "        self.nombre = nombre\n",
        "\n",
        "    def comer(self):\n",
        "        print(\"Comiendo...\")\n",
        "\n",
        "class Perro(Animal):\n",
        "    def __init__(self, nombre, raza):\n",
        "        super().__init__(nombre)\n",
        "        self.raza = raza\n",
        "\n",
        "    def ladrar(self):\n",
        "        print(f\"Hola me llamo {self.nombre}, y soy un {self.raza}\")"
      ],
      "metadata": {
        "id": "-5JtSzRzCIGx"
      },
      "execution_count": 59,
      "outputs": []
    },
    {
      "cell_type": "code",
      "source": [
        "mi_perro = Perro(\"Puchu\", \"Pug\")\n",
        "\n",
        "mi_perro.ladrar()"
      ],
      "metadata": {
        "colab": {
          "base_uri": "https://localhost:8080/"
        },
        "id": "ZlabPg5LDpq-",
        "outputId": "b2f73b11-6379-4b33-b793-a0489ed88a4c"
      },
      "execution_count": 61,
      "outputs": [
        {
          "output_type": "stream",
          "name": "stdout",
          "text": [
            "Hola me llamo Puchu, y soy un Pug\n"
          ]
        }
      ]
    },
    {
      "cell_type": "markdown",
      "source": [
        "### 2.4 Polimorfismo\n",
        "\n",
        "Esto se refiere a la propiedad de que distintas clases puedan tener métodos con los mismos nombres, pero tener funcionamientos distintos"
      ],
      "metadata": {
        "id": "OVyF2w9PEymC"
      }
    },
    {
      "cell_type": "code",
      "source": [
        "class Perro:\n",
        "    def onomatopeya(self):\n",
        "        print(\"Guau\")\n",
        "\n",
        "class Gato:\n",
        "    def onomatopeya(self):\n",
        "        print(\"Miau\")"
      ],
      "metadata": {
        "id": "BvXwRKyeE_T-"
      },
      "execution_count": 67,
      "outputs": []
    },
    {
      "cell_type": "code",
      "source": [
        "mi_perro = Perro()\n",
        "mi_perro.onomatopeya()"
      ],
      "metadata": {
        "colab": {
          "base_uri": "https://localhost:8080/"
        },
        "id": "Tl4lN1SvFHcv",
        "outputId": "f692c334-2cd9-4fc1-cc94-9fbbf12a5524"
      },
      "execution_count": 70,
      "outputs": [
        {
          "output_type": "stream",
          "name": "stdout",
          "text": [
            "Guau\n"
          ]
        }
      ]
    },
    {
      "cell_type": "markdown",
      "source": [
        "# Ejercicio de Práctica\n",
        "\n",
        "Crea un programa en Python en el que...\n",
        "1. Crea una clase que sea Cuenta de Banco\n",
        "2. Preguntale al usuario su nombre y apellido, su edad y su saldo inicial.\n",
        "3. En base a esa información crea una cuenta para el usuario\n",
        "4. Una vez creado el usuario se le debe de desplegar un menú al usuario que le permita Depositar, Retirar, Consultar Saldo o Salir\n",
        "\n",
        "**Restricciones:**\n",
        "- El usuario no debe de poder modificar ni su nombre, ni su edad, ni su saldo por si solo (sin usar métodos)\n",
        "- El saldo no puede ser negativo: No puede incertar inicialmente saldo negativo, ni retirar más de lo que tiene."
      ],
      "metadata": {
        "id": "SEojlw1LGSGm"
      }
    }
  ]
}