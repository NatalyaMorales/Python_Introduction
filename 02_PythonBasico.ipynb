{
  "nbformat": 4,
  "nbformat_minor": 0,
  "metadata": {
    "colab": {
      "provenance": [],
      "toc_visible": true
    },
    "kernelspec": {
      "name": "python3",
      "display_name": "Python 3"
    },
    "language_info": {
      "name": "python"
    }
  },
  "cells": [
    {
      "cell_type": "markdown",
      "source": [
        "# Fundamentos de Python: Módulo 2\n",
        "\n",
        "Natalya Morales\\\n",
        "Septiembre, 2025\n",
        "\n",
        "En este segundo módulo se hablará acerca de las estructuras básicas, condicionales y ciclos."
      ],
      "metadata": {
        "id": "l_PBFK4NnpVO"
      }
    },
    {
      "cell_type": "markdown",
      "source": [
        "## 1. Estructuras básicas\n",
        "\n",
        "Ya conocimos las variables básicas: INT, STR, BOOL\\\n",
        "Existen otras estructuras importantes por conocer..."
      ],
      "metadata": {
        "id": "PMyc_fKVvEmF"
      }
    },
    {
      "cell_type": "markdown",
      "source": [
        "### 1.1 Listas\n",
        "\n",
        "Es un grupo de elementos en una misma variable.\\\n",
        "Se utilizan los corchetes [] para crearla:"
      ],
      "metadata": {
        "id": "8fMm_HKCvbsR"
      }
    },
    {
      "cell_type": "code",
      "source": [
        "mi_lista = [1, 2, 3, 4, 5]\n",
        "print(mi_lista)"
      ],
      "metadata": {
        "colab": {
          "base_uri": "https://localhost:8080/"
        },
        "id": "jAyYhUqmv5aj",
        "outputId": "cfc9c060-c7b9-4e38-9097-fb1b93a4dd29"
      },
      "execution_count": 16,
      "outputs": [
        {
          "output_type": "stream",
          "name": "stdout",
          "text": [
            "[1, 2, 3, 4, 5]\n"
          ]
        }
      ]
    },
    {
      "cell_type": "markdown",
      "source": [
        "Si quieres acceder a un solo elemento de la lista:"
      ],
      "metadata": {
        "id": "_UHutLEBwDyZ"
      }
    },
    {
      "cell_type": "code",
      "source": [
        "print(mi_lista[0])"
      ],
      "metadata": {
        "colab": {
          "base_uri": "https://localhost:8080/"
        },
        "id": "_iHW2WSLwVuQ",
        "outputId": "451457c9-c221-457f-b6f4-800d4657b236"
      },
      "execution_count": 17,
      "outputs": [
        {
          "output_type": "stream",
          "name": "stdout",
          "text": [
            "1\n"
          ]
        }
      ]
    },
    {
      "cell_type": "markdown",
      "source": [
        "**Importante:** Las estructuras en python inician en cero.\n",
        "\n",
        "Si quieres modificar un elemento de la lista:"
      ],
      "metadata": {
        "id": "Td_hDke4wa9I"
      }
    },
    {
      "cell_type": "code",
      "source": [
        "mi_lista[0] = 10\n",
        "print(mi_lista)"
      ],
      "metadata": {
        "colab": {
          "base_uri": "https://localhost:8080/"
        },
        "id": "O3uh8zVxxCFq",
        "outputId": "8c793617-9e46-43a8-d498-034fbded429c"
      },
      "execution_count": 18,
      "outputs": [
        {
          "output_type": "stream",
          "name": "stdout",
          "text": [
            "[10, 2, 3, 4, 5]\n"
          ]
        }
      ]
    },
    {
      "cell_type": "markdown",
      "source": [
        "Si quieres agregar un nuevo elemento a la lista, tienes dos opciones:"
      ],
      "metadata": {
        "id": "vtibSopiw_HH"
      }
    },
    {
      "cell_type": "code",
      "source": [
        "# Agregar el número al final\n",
        "mi_lista.append(6)\n",
        "print(mi_lista)\n",
        "\n",
        "# Agregar en una posición específica (posicion, numero nuevo)\n",
        "mi_lista.insert(0, 20)\n",
        "print(mi_lista)"
      ],
      "metadata": {
        "colab": {
          "base_uri": "https://localhost:8080/"
        },
        "id": "Jl6QQMXdxIgQ",
        "outputId": "564d7f6d-8f7f-4810-af13-131ace7b7d5e"
      },
      "execution_count": 19,
      "outputs": [
        {
          "output_type": "stream",
          "name": "stdout",
          "text": [
            "[10, 2, 3, 4, 5, 6]\n",
            "[20, 10, 2, 3, 4, 5, 6]\n"
          ]
        }
      ]
    },
    {
      "cell_type": "markdown",
      "source": [
        "Si quieres eliminar un número:"
      ],
      "metadata": {
        "id": "HxrVIkQyxnJ0"
      }
    },
    {
      "cell_type": "code",
      "source": [
        "# Eliminar un número en específico\n",
        "mi_lista.remove(20)\n",
        "print(mi_lista)\n",
        "\n",
        "# Eliminar el último número\n",
        "mi_lista.pop()\n",
        "print(mi_lista)\n",
        "\n",
        "# Eliminar el número de alguna posición específica\n",
        "del mi_lista[0]\n",
        "print(mi_lista)"
      ],
      "metadata": {
        "colab": {
          "base_uri": "https://localhost:8080/"
        },
        "id": "ZjSKfBk5xpbK",
        "outputId": "63c468ca-b463-4c5c-9f08-b4892161a846"
      },
      "execution_count": 20,
      "outputs": [
        {
          "output_type": "stream",
          "name": "stdout",
          "text": [
            "[10, 2, 3, 4, 5, 6]\n",
            "[10, 2, 3, 4, 5]\n",
            "[2, 3, 4, 5]\n"
          ]
        }
      ]
    },
    {
      "cell_type": "markdown",
      "source": [
        "### 1.2 Tuplas\n",
        "\n",
        "A diferencia de las Listas, las Tuplas no se pueden modificar. Para crearlas usamos paréntesis ()."
      ],
      "metadata": {
        "id": "27o_OWmvyAgG"
      }
    },
    {
      "cell_type": "code",
      "source": [
        "mi_tupla = (1, 2, 3, 4, 5)\n",
        "print(mi_tupla)"
      ],
      "metadata": {
        "colab": {
          "base_uri": "https://localhost:8080/"
        },
        "id": "-kYggNZGyVpr",
        "outputId": "bf8e1b5a-9c90-4a02-9c6a-2b63eb8aca99"
      },
      "execution_count": 21,
      "outputs": [
        {
          "output_type": "stream",
          "name": "stdout",
          "text": [
            "(1, 2, 3, 4, 5)\n"
          ]
        }
      ]
    },
    {
      "cell_type": "markdown",
      "source": [
        "### 1.3 Conjuntos (Sets)\n",
        "\n",
        "Esta estructura almacena datos de los cuales, no importa el orden, y solo importan los valores únicos. Para crearlas usamos llaves {}."
      ],
      "metadata": {
        "id": "ZNb99HEuyZXr"
      }
    },
    {
      "cell_type": "code",
      "source": [
        "mi_conjunto = {2, 3, 2, 1}\n",
        "print(mi_conjunto)"
      ],
      "metadata": {
        "colab": {
          "base_uri": "https://localhost:8080/"
        },
        "id": "bz2LBtdUytH0",
        "outputId": "21bb25f7-9d4d-4bee-dda9-1631b3e80cd8"
      },
      "execution_count": 23,
      "outputs": [
        {
          "output_type": "stream",
          "name": "stdout",
          "text": [
            "{1, 2, 3}\n"
          ]
        }
      ]
    },
    {
      "cell_type": "code",
      "source": [
        "# Para agregar un número\n",
        "mi_conjunto.add(4)\n",
        "print(mi_conjunto)"
      ],
      "metadata": {
        "colab": {
          "base_uri": "https://localhost:8080/"
        },
        "id": "Qu7YjwSay7jp",
        "outputId": "a083ee2d-a9f9-4072-a5f7-650628c4f660"
      },
      "execution_count": 24,
      "outputs": [
        {
          "output_type": "stream",
          "name": "stdout",
          "text": [
            "{1, 2, 3, 4}\n"
          ]
        }
      ]
    },
    {
      "cell_type": "code",
      "source": [
        "# Para eliminar un número\n",
        "mi_conjunto.remove(2)\n",
        "print(mi_conjunto)"
      ],
      "metadata": {
        "colab": {
          "base_uri": "https://localhost:8080/"
        },
        "id": "kLos6BDNzDfq",
        "outputId": "001d6083-2bd8-4fa2-8acd-c600d6bdffda"
      },
      "execution_count": 25,
      "outputs": [
        {
          "output_type": "stream",
          "name": "stdout",
          "text": [
            "{1, 3, 4}\n"
          ]
        }
      ]
    },
    {
      "cell_type": "code",
      "source": [
        "# Una forma más segura de eliminar un número\n",
        "mi_conjunto.discard(5)\n",
        "print(mi_conjunto)\n",
        "\n",
        "# De esta forma no dará error en caso de que el número no exista"
      ],
      "metadata": {
        "colab": {
          "base_uri": "https://localhost:8080/"
        },
        "id": "1ydUpXbOzGsW",
        "outputId": "4b160429-e01a-46fe-dd42-d939ee0d3370"
      },
      "execution_count": 26,
      "outputs": [
        {
          "output_type": "stream",
          "name": "stdout",
          "text": [
            "{1, 3, 4}\n"
          ]
        }
      ]
    },
    {
      "cell_type": "markdown",
      "source": [
        "### 1.4 Diccionarios\n",
        "\n",
        "Esta estructura permite almacenar información en pares clave-valor.\\\n",
        "Es parecido a un diccionario de la vida real:\n",
        "- La palabra sería la clave.\n",
        "- La definición sería el valor.\n",
        "\n",
        "Se crea con llaves {}, pero a diferencia del conjunto, este no se agrega solamente con comas:"
      ],
      "metadata": {
        "id": "HJcgX1SSzWzN"
      }
    },
    {
      "cell_type": "code",
      "source": [
        "mi_diccionario = {\n",
        "    \"nombre\": \"Pipis\",\n",
        "    \"raza\": \"Pug\",\n",
        "    \"edad\": 8\n",
        "}\n",
        "print(mi_diccionario)"
      ],
      "metadata": {
        "colab": {
          "base_uri": "https://localhost:8080/"
        },
        "id": "IcS5W6540IQ7",
        "outputId": "9d2c39c6-2364-4ef3-f4ea-d33979f9e6ae"
      },
      "execution_count": 27,
      "outputs": [
        {
          "output_type": "stream",
          "name": "stdout",
          "text": [
            "{'nombre': 'Pipis', 'raza': 'Pug', 'edad': 8}\n"
          ]
        }
      ]
    },
    {
      "cell_type": "code",
      "source": [
        "# Si quieres acceder solamente a una clave del diccionario\n",
        "print(mi_diccionario[\"nombre\"])"
      ],
      "metadata": {
        "colab": {
          "base_uri": "https://localhost:8080/"
        },
        "id": "ihoxhvHa0aeh",
        "outputId": "79da90ac-af82-4edf-ba2b-5261a3a823f9"
      },
      "execution_count": 28,
      "outputs": [
        {
          "output_type": "stream",
          "name": "stdout",
          "text": [
            "Pipis\n"
          ]
        }
      ]
    },
    {
      "cell_type": "code",
      "source": [
        "# Una forma más segura de acceder a una clave\n",
        "print(mi_diccionario.get(\"peso\", \"No existe\"))\n",
        "\n",
        "# De esta forma no dará error en caso de que la clave no exista"
      ],
      "metadata": {
        "colab": {
          "base_uri": "https://localhost:8080/"
        },
        "id": "wyDL_8Sw0m41",
        "outputId": "6b915674-dbf2-4815-9fef-baa1b0472b27"
      },
      "execution_count": 29,
      "outputs": [
        {
          "output_type": "stream",
          "name": "stdout",
          "text": [
            "No existe\n"
          ]
        }
      ]
    },
    {
      "cell_type": "code",
      "source": [
        "# Agregar una nueva clave con su valor\n",
        "mi_diccionario[\"peso\"] = 10\n",
        "print(mi_diccionario)"
      ],
      "metadata": {
        "colab": {
          "base_uri": "https://localhost:8080/"
        },
        "id": "Db8WEeR-1FjN",
        "outputId": "8726495e-b346-4c39-9c2a-eed80876f902"
      },
      "execution_count": 32,
      "outputs": [
        {
          "output_type": "stream",
          "name": "stdout",
          "text": [
            "{'nombre': 'Pipis', 'raza': 'Pug', 'edad': 8, 'peso': 10}\n"
          ]
        }
      ]
    },
    {
      "cell_type": "code",
      "source": [
        "# Editar un valor de una clave\n",
        "mi_diccionario[\"peso\"] = 9\n",
        "print(mi_diccionario)"
      ],
      "metadata": {
        "colab": {
          "base_uri": "https://localhost:8080/"
        },
        "id": "-7sgxFRH1KZZ",
        "outputId": "ff8fbd8e-f9a4-41d6-d3cb-6eb24744f2c6"
      },
      "execution_count": 33,
      "outputs": [
        {
          "output_type": "stream",
          "name": "stdout",
          "text": [
            "{'nombre': 'Pipis', 'raza': 'Pug', 'edad': 8, 'peso': 9}\n"
          ]
        }
      ]
    },
    {
      "cell_type": "code",
      "source": [
        "# Eliminar el valor de una clave\n",
        "del mi_diccionario[\"peso\"]\n",
        "print(mi_diccionario)"
      ],
      "metadata": {
        "colab": {
          "base_uri": "https://localhost:8080/"
        },
        "id": "9QYJ4fgj1X7Y",
        "outputId": "8ce039b6-cd9d-45e8-e38a-4134ab6e5815"
      },
      "execution_count": 34,
      "outputs": [
        {
          "output_type": "stream",
          "name": "stdout",
          "text": [
            "{'nombre': 'Pipis', 'raza': 'Pug', 'edad': 8}\n"
          ]
        }
      ]
    },
    {
      "cell_type": "markdown",
      "source": [
        "También puedes hacer índices numéricos:"
      ],
      "metadata": {
        "id": "t72RrX_o0zxo"
      }
    },
    {
      "cell_type": "code",
      "source": [
        "dicionario_numerico = {\n",
        "    0: \"Pipis\",\n",
        "    1: \"Puchu\",\n",
        "    2: \"Twinky\"\n",
        "}\n",
        "print(dicionario_numerico[1])"
      ],
      "metadata": {
        "colab": {
          "base_uri": "https://localhost:8080/"
        },
        "id": "hVIATPKJ0yQZ",
        "outputId": "3820b79a-bd5e-44a7-bb69-473407f66565"
      },
      "execution_count": 30,
      "outputs": [
        {
          "output_type": "stream",
          "name": "stdout",
          "text": [
            "Puchu\n"
          ]
        }
      ]
    },
    {
      "cell_type": "markdown",
      "source": [
        "## 2. Condicionales\n",
        "Hay ocaciones en las que queremos que se ejecute un código solamente en algunas ocaciones. Para esto existen los condicionales:"
      ],
      "metadata": {
        "id": "WhXVMWBFogmx"
      }
    },
    {
      "cell_type": "code",
      "source": [
        "# Declaremos algunas variables\n",
        "a = 2\n",
        "b = 6"
      ],
      "metadata": {
        "id": "k37pt4IKpAZW"
      },
      "execution_count": 1,
      "outputs": []
    },
    {
      "cell_type": "code",
      "execution_count": 2,
      "metadata": {
        "colab": {
          "base_uri": "https://localhost:8080/"
        },
        "id": "7Dyd-BGenlHb",
        "outputId": "f13ed50d-79b3-4439-9698-6e21170ecef8"
      },
      "outputs": [
        {
          "output_type": "stream",
          "name": "stdout",
          "text": [
            "a es menor que b\n"
          ]
        }
      ],
      "source": [
        "# IF\n",
        "if a < b:\n",
        "    print(\"a es menor que b\")"
      ]
    },
    {
      "cell_type": "markdown",
      "source": [
        "¿Qué pasa si queremos que suceda algo si no se cumple la condición?"
      ],
      "metadata": {
        "id": "noYZM0LkpNjy"
      }
    },
    {
      "cell_type": "code",
      "source": [
        "# IF - ELSE\n",
        "if a > b:\n",
        "    print(\"a es mayor que b\")\n",
        "else:\n",
        "    print(\"a no es mayor que b\")"
      ],
      "metadata": {
        "colab": {
          "base_uri": "https://localhost:8080/"
        },
        "id": "QFAwAIF3pXNx",
        "outputId": "253292a1-40ec-4af9-c7fa-cada15715ba2"
      },
      "execution_count": 3,
      "outputs": [
        {
          "output_type": "stream",
          "name": "stdout",
          "text": [
            "a no es mayor que b\n"
          ]
        }
      ]
    },
    {
      "cell_type": "markdown",
      "source": [
        "¿Qué pasa si queremos agregar más condiciones?"
      ],
      "metadata": {
        "id": "9iVjM3AVpf8U"
      }
    },
    {
      "cell_type": "code",
      "source": [
        "# Agreguemos otras variables\n",
        "c = 4\n",
        "\n",
        "if c < a:\n",
        "    print(\"c es menor que a\")\n",
        "elif c < b:\n",
        "    print(\"c es menor que b\")\n",
        "else:\n",
        "    print(\"c es mayor que a y b\")"
      ],
      "metadata": {
        "colab": {
          "base_uri": "https://localhost:8080/"
        },
        "id": "eNAWx6Y5pjIL",
        "outputId": "79f0a53f-b58b-4d96-cdd5-8d93d511fcd6"
      },
      "execution_count": 5,
      "outputs": [
        {
          "output_type": "stream",
          "name": "stdout",
          "text": [
            "c es menor que b\n"
          ]
        }
      ]
    },
    {
      "cell_type": "markdown",
      "source": [
        "## 3. Ciclos\n",
        "\n",
        "Otra opción posible, es querer repetir una acción hasta que se cumpla cierta cierta acción. Esto lo podemos hacer con los ciclos.\n",
        "\n"
      ],
      "metadata": {
        "id": "8AOCMI0XqOl-"
      }
    },
    {
      "cell_type": "markdown",
      "source": [
        "### 3.1 While\n",
        "\n",
        "Haz *x* hasta que se cumpla *y*."
      ],
      "metadata": {
        "id": "zVwZEj84q3ff"
      }
    },
    {
      "cell_type": "code",
      "source": [
        "# Definamos algunas variables\n",
        "a = 0\n",
        "b = 5"
      ],
      "metadata": {
        "id": "CALENL-ZrUwS"
      },
      "execution_count": 10,
      "outputs": []
    },
    {
      "cell_type": "code",
      "source": [
        "while a < b:\n",
        "  print(f\"a: {a} es menor que b: {b}\")\n",
        "  a = a + 1\n",
        "\n",
        "# Hagamos un print fuera del While\n",
        "print(f\"a: {a} es mayor o igual que b: {b}\")"
      ],
      "metadata": {
        "colab": {
          "base_uri": "https://localhost:8080/"
        },
        "id": "KD-GctIDqRDZ",
        "outputId": "8177fb69-ac7e-495a-9f1e-b4b03b9f1329"
      },
      "execution_count": 11,
      "outputs": [
        {
          "output_type": "stream",
          "name": "stdout",
          "text": [
            "a: 0 es menor que b: 5\n",
            "a: 1 es menor que b: 5\n",
            "a: 2 es menor que b: 5\n",
            "a: 3 es menor que b: 5\n",
            "a: 4 es menor que b: 5\n",
            "a: 5 es mayor o igual que b: 5\n"
          ]
        }
      ]
    },
    {
      "cell_type": "markdown",
      "source": [
        "En este caso utlizamos:\\\n",
        "a = a + 1\\\n",
        "para actualizar nuestra variable y que en algún momento se detenga.\\\n",
        "¡Cuidado¡ Si no hay nada que lo actualice, nuestro código podría correr infinitamente!!!!"
      ],
      "metadata": {
        "id": "8qrWe56Qryh_"
      }
    },
    {
      "cell_type": "markdown",
      "source": [
        "**Extra:** Podemos hacer una actualización de forma más rápida:"
      ],
      "metadata": {
        "id": "0bSMD0sasUBq"
      }
    },
    {
      "cell_type": "code",
      "source": [
        "a = 4\n",
        "print(\"El valor de a es:\", a)\n",
        "a += 1\n",
        "print(\"El valor de a es:\", a)"
      ],
      "metadata": {
        "colab": {
          "base_uri": "https://localhost:8080/"
        },
        "id": "tRrp6tc3sRt3",
        "outputId": "75a4125d-8af3-4cc8-d599-6c4ba3612069"
      },
      "execution_count": 8,
      "outputs": [
        {
          "output_type": "stream",
          "name": "stdout",
          "text": [
            "El valor de a es: 4\n",
            "El valor de a es: 5\n"
          ]
        }
      ]
    },
    {
      "cell_type": "markdown",
      "source": [
        "Un While es útil incluso si nunca entra al ciclo:"
      ],
      "metadata": {
        "id": "q3rJF_gptAEY"
      }
    },
    {
      "cell_type": "code",
      "source": [
        "print(\"El valor de a es:\", a)\n",
        "print(\"El valor de a es:\", b)\n",
        "print(\"\\n\")\n",
        "while a < b:\n",
        "  print(f\"a: {a} es menor que b: {b}\")\n",
        "  a = a + 1\n",
        "\n",
        "# Hagamos un print fuera del While\n",
        "print(f\"a: {a} es mayor o igual que b: {b}\")"
      ],
      "metadata": {
        "colab": {
          "base_uri": "https://localhost:8080/"
        },
        "id": "b4Jb8m-ttPFK",
        "outputId": "7ecd0d6a-73fa-4c30-fb57-491d11ba9742"
      },
      "execution_count": 13,
      "outputs": [
        {
          "output_type": "stream",
          "name": "stdout",
          "text": [
            "El valor de a es: 5\n",
            "El valor de a es: 5\n",
            "\n",
            "\n",
            "a: 5 es mayor o igual que b: 5\n"
          ]
        }
      ]
    },
    {
      "cell_type": "markdown",
      "source": [
        "### 3.2 For\n",
        "\n",
        "En otros lenguajes un ciclo For tiene el siguiente formato:\n",
        "\n",
        "1. Inicializa el contador\n",
        "2. Hasta que cumpla tal condición\n",
        "3. Y avanza de tal en tal\n",
        "\n",
        "```\n",
        "for(i=1, i<k, i+=1):\n",
        "  # Acción por realizar\n",
        "```\n",
        "\n",
        "Lo más igual a eso es:\n"
      ],
      "metadata": {
        "id": "UVklKVQLtsoS"
      }
    },
    {
      "cell_type": "code",
      "source": [
        "# Recorrer del 1 al 12 avanzando de 2 en 2\n",
        "for i in range(1, 12, 2):\n",
        "    print(i)"
      ],
      "metadata": {
        "colab": {
          "base_uri": "https://localhost:8080/"
        },
        "id": "HQXt-Y6T6HRz",
        "outputId": "85ee53c6-7105-426d-e124-c0a8741e0207"
      },
      "execution_count": 41,
      "outputs": [
        {
          "output_type": "stream",
          "name": "stdout",
          "text": [
            "1\n",
            "3\n",
            "5\n",
            "7\n",
            "9\n",
            "11\n"
          ]
        }
      ]
    },
    {
      "cell_type": "markdown",
      "source": [
        "Pero también hay otros usos muy útiles para los ciclos for en Python:"
      ],
      "metadata": {
        "id": "_NVAYyCu6SNh"
      }
    },
    {
      "cell_type": "code",
      "source": [
        "# Recorrer un rango de números\n",
        "for i in range(5):\n",
        "  print(i)"
      ],
      "metadata": {
        "colab": {
          "base_uri": "https://localhost:8080/"
        },
        "id": "aZe95Ukz4y78",
        "outputId": "16d24aa7-5369-4c47-a20c-1eb34c3a9860"
      },
      "execution_count": 39,
      "outputs": [
        {
          "output_type": "stream",
          "name": "stdout",
          "text": [
            "0\n",
            "1\n",
            "2\n",
            "3\n",
            "4\n"
          ]
        }
      ]
    },
    {
      "cell_type": "code",
      "source": [
        "# Recorrer una lista\n",
        "pugs = [\"Pipis\", \"Puchu\", \"Twinky\"]\n",
        "for pug in pugs:\n",
        "  print(pug)"
      ],
      "metadata": {
        "colab": {
          "base_uri": "https://localhost:8080/"
        },
        "id": "j2l4G6kI44lZ",
        "outputId": "5f983565-34ee-4b8b-d042-960ee99ea114"
      },
      "execution_count": 40,
      "outputs": [
        {
          "output_type": "stream",
          "name": "stdout",
          "text": [
            "Pipis\n",
            "Puchu\n",
            "Twinky\n"
          ]
        }
      ]
    },
    {
      "cell_type": "code",
      "source": [
        "# Recorrer la lista en conjunto con su índice\n",
        "for indice, pug in enumerate(pugs):\n",
        "    print(indice, pug)"
      ],
      "metadata": {
        "id": "uaxXWxHo6muE"
      },
      "execution_count": null,
      "outputs": []
    },
    {
      "cell_type": "code",
      "source": [
        "# Recorrer las letras de una STR\n",
        "nombre = \"Pipis\"\n",
        "for letra in nombre:\n",
        "  print(letra)"
      ],
      "metadata": {
        "colab": {
          "base_uri": "https://localhost:8080/"
        },
        "id": "LJX96T-A5UPV",
        "outputId": "9ada570a-a0de-483a-aed6-7ecc2cfdde23"
      },
      "execution_count": 38,
      "outputs": [
        {
          "output_type": "stream",
          "name": "stdout",
          "text": [
            "P\n",
            "i\n",
            "p\n",
            "i\n",
            "s\n"
          ]
        }
      ]
    },
    {
      "cell_type": "markdown",
      "source": [
        "**Extra:** También puedes hacer una mejor impresión de un diccionario a través de un for:"
      ],
      "metadata": {
        "id": "21Fw53721ohh"
      }
    },
    {
      "cell_type": "code",
      "source": [
        "for clave, valor in mi_diccionario.items():\n",
        "  print(f\"{clave}: {valor}\")"
      ],
      "metadata": {
        "colab": {
          "base_uri": "https://localhost:8080/"
        },
        "id": "TepCKln5tt8n",
        "outputId": "661e2468-9b44-4641-f97f-4ede45f267ba"
      },
      "execution_count": 37,
      "outputs": [
        {
          "output_type": "stream",
          "name": "stdout",
          "text": [
            "nombre: Pipis\n",
            "raza: Pug\n",
            "edad: 8\n"
          ]
        }
      ]
    },
    {
      "cell_type": "markdown",
      "source": [
        "## 4 Break & Continue\n",
        "\n",
        "A veces solo utilizamos los condicionales para continuar un proceso o detenerlo."
      ],
      "metadata": {
        "id": "bYZpwdkn-Owy"
      }
    },
    {
      "cell_type": "code",
      "source": [
        "# Supongamos que queremos agregar una restricción extra\n",
        "i = 2\n",
        "while i < 10:\n",
        "    print(i)\n",
        "    if i == 5:\n",
        "        break\n",
        "    print(\"Continuando...\")\n",
        "    i += 1\n",
        "# Ya no se debe sumar 1 al contador, puesto que pasa después del break"
      ],
      "metadata": {
        "colab": {
          "base_uri": "https://localhost:8080/"
        },
        "id": "5ScBksiT_Sih",
        "outputId": "25d2346d-20b6-4497-894b-799b1849020a"
      },
      "execution_count": 48,
      "outputs": [
        {
          "output_type": "stream",
          "name": "stdout",
          "text": [
            "2\n",
            "Continuando...\n",
            "3\n",
            "Continuando...\n",
            "4\n",
            "Continuando...\n",
            "5\n"
          ]
        }
      ]
    },
    {
      "cell_type": "code",
      "source": [
        "# Supongamos que no queremos que se imprima el número 5, pero sí el resto de números en el rango\n",
        "for i in range(8):\n",
        "    if i == 5:\n",
        "        continue\n",
        "    print(i)"
      ],
      "metadata": {
        "colab": {
          "base_uri": "https://localhost:8080/"
        },
        "id": "-aTOlhh4_EJH",
        "outputId": "2a597f94-8017-41f1-d23e-955eebcf03e6"
      },
      "execution_count": 45,
      "outputs": [
        {
          "output_type": "stream",
          "name": "stdout",
          "text": [
            "0\n",
            "1\n",
            "2\n",
            "3\n",
            "4\n",
            "6\n",
            "7\n"
          ]
        }
      ]
    },
    {
      "cell_type": "markdown",
      "source": [
        "# Ejercicio de Práctica"
      ],
      "metadata": {
        "id": "ml6e4L2I7Qfm"
      }
    },
    {
      "cell_type": "markdown",
      "source": [
        "Crea un programa en Python que:\n",
        "\n",
        "**Parte 1:**\n",
        "1. Crea una lista de números del 1 al 4.\n",
        "2. Pidele al usuario que escriba el número que le sigue.\n",
        "3. Si el usuario escribe 5, se debe agregar a la lista, si no, le debe pedir al usuario que lo intente de nuevo.\n",
        "4. Imprime la lista con tu ciclo favorito."
      ],
      "metadata": {
        "id": "rFIHi-127fwS"
      }
    }
  ]
}