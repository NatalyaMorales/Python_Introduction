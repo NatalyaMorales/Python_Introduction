{
  "nbformat": 4,
  "nbformat_minor": 0,
  "metadata": {
    "colab": {
      "provenance": []
    },
    "kernelspec": {
      "name": "python3",
      "display_name": "Python 3"
    },
    "language_info": {
      "name": "python"
    }
  },
  "cells": [
    {
      "cell_type": "markdown",
      "source": [
        "# Fundamentos de Python: Módulo 1\n",
        "\n",
        "Natalya Morales\\\n",
        "Septiembre, 2025\n",
        "\n",
        "Bienvenido a este curso introductorio de Python. En este primer módulo vas a conocer acerca de los Tipos de Datos, Print, Input y distintos tipos de operaciones."
      ],
      "metadata": {
        "id": "tP2RQ0GLW4ep"
      }
    },
    {
      "cell_type": "markdown",
      "source": [
        "## 1. Hello World\n",
        "\n",
        "'Hello World' es lo primero que se imprime en un programa al iniciar un lenguaje nuevo.\n",
        "\n",
        "¡En Python es muy fácil!"
      ],
      "metadata": {
        "id": "jQoVbR4JXE88"
      }
    },
    {
      "cell_type": "code",
      "execution_count": null,
      "metadata": {
        "id": "SAjVBGMAW0qe"
      },
      "outputs": [],
      "source": [
        "print(\"Hello World\")"
      ]
    },
    {
      "cell_type": "markdown",
      "source": [
        "**Extra:** Aprende a hacer comentarios"
      ],
      "metadata": {
        "id": "LU6NPukErheM"
      }
    },
    {
      "cell_type": "code",
      "source": [
        "# Este es un comentario de una línea\n",
        "\n",
        "\"\"\"\n",
        "Este es un comentario\n",
        "de varias líneas\n",
        "\"\"\""
      ],
      "metadata": {
        "id": "ya0Wic37rmRX"
      },
      "execution_count": null,
      "outputs": []
    },
    {
      "cell_type": "markdown",
      "source": [
        "## 2. Tipos de Datos\n",
        "\n",
        "Existen distintos tipos de datos, los más importantes son los siguientes:\\\n",
        "**Numéricos:**\n",
        "- *INTEGER (INT):* Enteros: 5, 10, 600, ...\n",
        "- *FLOAT:* Decimales: 0.5, 7.3, ...\n",
        "\n",
        "**Texto:**\n",
        "- *STRING (STR):* Cadena, texto. \"Hello\", 'World'\n",
        "\n",
        "**Booleano:**\n",
        "- *BOOL:* True, False\n",
        "\n",
        "Python tiene **tipado dinámico**, esto significa que no es necesario declarar el tipo de variable que es:"
      ],
      "metadata": {
        "id": "qmNHqH9rXcRR"
      }
    },
    {
      "cell_type": "code",
      "source": [
        "# Declaración de un INT\n",
        "a = 4\n",
        "# Declaración de un FLOAT\n",
        "b = 6.8\n",
        "# Declaración de un STR\n",
        "c = \"Pug\"\n",
        "# Declaración de un BOOL\n",
        "d = True"
      ],
      "metadata": {
        "id": "eS7kBHc_Zz7m"
      },
      "execution_count": null,
      "outputs": []
    },
    {
      "cell_type": "markdown",
      "source": [
        "## 3. Print\n",
        "\n",
        "En el primer apartado vimos como imprimir por primera vez.\\\n",
        "Ahora, veamos otras formas de imprimir:"
      ],
      "metadata": {
        "id": "b_Su8T_pbNxr"
      }
    },
    {
      "cell_type": "code",
      "source": [
        "# Imprimir de forma básica\n",
        "print(\"Hola, soy un print\")\n",
        "print('También puedes imprimir así!')"
      ],
      "metadata": {
        "colab": {
          "base_uri": "https://localhost:8080/"
        },
        "id": "5oI82SXSbPXn",
        "outputId": "9bf5c2b4-82d7-4a15-a7f6-068155f913a4"
      },
      "execution_count": null,
      "outputs": [
        {
          "output_type": "stream",
          "name": "stdout",
          "text": [
            "Hola, soy un print\n",
            "También puedes imprimir así!\n"
          ]
        }
      ]
    },
    {
      "cell_type": "code",
      "source": [
        "# Imprimir una variable asignada\n",
        "print(a)\n",
        "print(b)\n",
        "print(c)\n",
        "print(d)"
      ],
      "metadata": {
        "colab": {
          "base_uri": "https://localhost:8080/"
        },
        "id": "CMfqixZicBHR",
        "outputId": "92da0d12-ff00-43ee-f41c-ef93fa501cdc"
      },
      "execution_count": null,
      "outputs": [
        {
          "output_type": "stream",
          "name": "stdout",
          "text": [
            "4\n",
            "6.8\n",
            "Pug\n",
            "True\n"
          ]
        }
      ]
    },
    {
      "cell_type": "code",
      "source": [
        "# Imprimir una variable al final de un texto\n",
        "print(\"Este es un entero: \", a)"
      ],
      "metadata": {
        "colab": {
          "base_uri": "https://localhost:8080/"
        },
        "id": "YQ9McoaucGGM",
        "outputId": "824183b1-dbc5-482b-f2b7-18c242dbdea1"
      },
      "execution_count": null,
      "outputs": [
        {
          "output_type": "stream",
          "name": "stdout",
          "text": [
            "Este es un entero:  4\n"
          ]
        }
      ]
    },
    {
      "cell_type": "code",
      "source": [
        "# Imprimir varios datos con texto intercalado\n",
        "print(\"Este es un entero: \", a, \", Este es un float: \", b)"
      ],
      "metadata": {
        "colab": {
          "base_uri": "https://localhost:8080/"
        },
        "id": "pvN4HRLLcTYE",
        "outputId": "9eec985f-140b-4789-b35d-c670836aa0a4"
      },
      "execution_count": null,
      "outputs": [
        {
          "output_type": "stream",
          "name": "stdout",
          "text": [
            "Este es un entero:  4 , Este es un float:  6.8\n"
          ]
        }
      ]
    },
    {
      "cell_type": "code",
      "source": [
        "# Esta es una forma más elegante de escribir texto intercalado\n",
        "# Función en un print\n",
        "print(f\"Este es un entero: {a}, Este es un float: {b}\")"
      ],
      "metadata": {
        "colab": {
          "base_uri": "https://localhost:8080/"
        },
        "id": "6lA-U8eZcolv",
        "outputId": "e50a202c-b809-46ef-df3d-c8cbd9e5f920"
      },
      "execution_count": null,
      "outputs": [
        {
          "output_type": "stream",
          "name": "stdout",
          "text": [
            "Este es un entero: 4, Este es un float: 6.8\n"
          ]
        }
      ]
    },
    {
      "cell_type": "code",
      "source": [
        "# Esta es una forma de imprimir un 'enter'\n",
        "print(\"Este es un entero:\")\n",
        "print(a)"
      ],
      "metadata": {
        "colab": {
          "base_uri": "https://localhost:8080/"
        },
        "id": "IRlL_cQRdEq8",
        "outputId": "e1fdff5d-2134-4a40-8244-7df9c683ca86"
      },
      "execution_count": null,
      "outputs": [
        {
          "output_type": "stream",
          "name": "stdout",
          "text": [
            "Este es un entero:\n",
            "4\n"
          ]
        }
      ]
    },
    {
      "cell_type": "code",
      "source": [
        "# Esta es una forma más elegante de imprimir un 'enter'\n",
        "print(f\"Este es un entero:\\n{a}\")"
      ],
      "metadata": {
        "colab": {
          "base_uri": "https://localhost:8080/"
        },
        "id": "E7n5z2Hoc5bS",
        "outputId": "2c4e0255-1ae5-498e-96d4-7e7b74ef0563"
      },
      "execution_count": null,
      "outputs": [
        {
          "output_type": "stream",
          "name": "stdout",
          "text": [
            "Este es un entero:\n",
            "4\n"
          ]
        }
      ]
    },
    {
      "cell_type": "markdown",
      "source": [
        "## 4. Input y Asignaciones\n",
        "\n",
        "En las secciones anteriores vimos que se puede asignar un valor a una variable:\\\n",
        "Asignamos **4** en **a**:\\\n",
        "a = 4\n",
        "\n",
        "Ahora, ¿qué pasa si queremos que el usuario sea quien le asigne el valor?"
      ],
      "metadata": {
        "id": "DRjZVgaAdxyM"
      }
    },
    {
      "cell_type": "code",
      "source": [
        "# INPUT\n",
        "nombre = input(\"Ingresa tu nombre: \")\n",
        "\n",
        "print(f\"Tu nombre es: {nombre}\")"
      ],
      "metadata": {
        "colab": {
          "base_uri": "https://localhost:8080/"
        },
        "id": "2CsoTmLWe0Xn",
        "outputId": "08e75de9-ae0e-47a1-b2f0-bbe6ea0e47df"
      },
      "execution_count": null,
      "outputs": [
        {
          "output_type": "stream",
          "name": "stdout",
          "text": [
            "Ingresa tu nombre: Nat\n",
            "Tu nombre es: Nat\n"
          ]
        }
      ]
    },
    {
      "cell_type": "markdown",
      "source": [
        "## 5. Operaciones"
      ],
      "metadata": {
        "id": "98rSQE50fm-a"
      }
    },
    {
      "cell_type": "markdown",
      "source": [
        "### 5.1. Aritméticas\n",
        "\n",
        "Las operaciones aritméticas básicas son:\n",
        "- Suma: 10 + 2; a + b\n",
        "- Resta: 10 - 2; a - b\n",
        "- Multiplicación: 10 * 2; a * b\n",
        "- División: 10 / 2; a / b"
      ],
      "metadata": {
        "id": "P1i_AAyHfrl9"
      }
    },
    {
      "cell_type": "code",
      "source": [
        "# Asignemos nuevos números\n",
        "a = 7\n",
        "b = 3\n",
        "\n",
        "# Realicemos operaciones básicas\n",
        "suma = a + b\n",
        "resta = a - b\n",
        "multiplicacion = a * b\n",
        "division = a / b\n",
        "\n",
        "# Imprimimos los resultados\n",
        "print(\"Suma:\", suma)\n",
        "print(\"Resta:\", resta)\n",
        "print(\"Multiplicación:\", multiplicacion)\n",
        "print(\"División:\", division)"
      ],
      "metadata": {
        "colab": {
          "base_uri": "https://localhost:8080/"
        },
        "id": "5Hlb90s_fq1E",
        "outputId": "ed161705-ad12-4a9f-bcad-8f548e48add4"
      },
      "execution_count": null,
      "outputs": [
        {
          "output_type": "stream",
          "name": "stdout",
          "text": [
            "Suma: 10\n",
            "Resta: 4\n",
            "Multiplicación: 21\n",
            "División: 2.3333333333333335\n"
          ]
        }
      ]
    },
    {
      "cell_type": "markdown",
      "source": [
        "**Extra:**\\\n",
        "¿Cómo se puede limitar el número de decimales en un print?\\\n",
        "En la impresión como función se agrega el *formato*: {.nf}\\\n",
        "Solo cambia la **n** por la cantidad de decimales que quieres."
      ],
      "metadata": {
        "id": "0MBMsC9hgzMl"
      }
    },
    {
      "cell_type": "code",
      "source": [
        "print(f\"División: {division:.4f}\")"
      ],
      "metadata": {
        "colab": {
          "base_uri": "https://localhost:8080/"
        },
        "id": "sfOpGVSPhHii",
        "outputId": "eb20753d-807d-426f-a27a-66cb05aadb41"
      },
      "execution_count": null,
      "outputs": [
        {
          "output_type": "stream",
          "name": "stdout",
          "text": [
            "División: 2.3333\n"
          ]
        }
      ]
    },
    {
      "cell_type": "markdown",
      "source": [
        "Algunas otras operaciones aritméticas..."
      ],
      "metadata": {
        "id": "homUP9MEhf9y"
      }
    },
    {
      "cell_type": "code",
      "source": [
        "# División entera\n",
        "division_entera = a // b\n",
        "print(f\"División entera: {division_entera}\")\n",
        "\n",
        "# Residuo\n",
        "residuo = a % b\n",
        "print(f\"Residuo: {residuo}\")\n",
        "\n",
        "# Potencia\n",
        "potencia = b**a\n",
        "print(f\"Potencia: {potencia}\")"
      ],
      "metadata": {
        "colab": {
          "base_uri": "https://localhost:8080/"
        },
        "id": "4FO3MwJmhi9s",
        "outputId": "101a9dd1-904f-4ba2-f3c4-24ab6c927b81"
      },
      "execution_count": null,
      "outputs": [
        {
          "output_type": "stream",
          "name": "stdout",
          "text": [
            "División entera: 2\n",
            "Residuo: 1\n",
            "Potencia: 2187\n"
          ]
        }
      ]
    },
    {
      "cell_type": "markdown",
      "source": [
        "### 5.2 Comparativos\n",
        "\n",
        "¿Recuerdas los booleanos? una forma de asignarlos no es solamente poniendole True o False..."
      ],
      "metadata": {
        "id": "Yomos_0siMCk"
      }
    },
    {
      "cell_type": "code",
      "source": [
        "# Mayor qué\n",
        "mayor_que = a > b\n",
        "print(f\"¿A mayor qué B?: {mayor_que}\")\n",
        "\n",
        "# Menor qué\n",
        "menor_que = a < b\n",
        "print(f\"¿A menor qué B?: {menor_que}\")\n"
      ],
      "metadata": {
        "colab": {
          "base_uri": "https://localhost:8080/"
        },
        "id": "kau7n76JiN2j",
        "outputId": "b9e5f652-e302-46c6-93d7-3d45efe45686"
      },
      "execution_count": null,
      "outputs": [
        {
          "output_type": "stream",
          "name": "stdout",
          "text": [
            "¿A mayor qué B?: True\n",
            "¿A menor qué B?: False\n"
          ]
        }
      ]
    },
    {
      "cell_type": "code",
      "source": [
        "# Asignemos nuevos números\n",
        "c = 5\n",
        "d = 5\n",
        "\n",
        "# Mayor o igual qué\n",
        "mayor_o_igual = a >= b\n",
        "print(f\"¿A mayor o igual qué B?: {mayor_o_igual}\")\n",
        "mayor_o_igual = c >= d\n",
        "print(f\"¿C mayor o igual qué D?: {mayor_o_igual}\")\n",
        "\n",
        "# Menor o igual qué\n",
        "menor_o_igual = a <= b\n",
        "print(f\"¿A menor o igual qué B?: {menor_o_igual}\")\n",
        "menor_o_igual = c <= d\n",
        "print(f\"¿C menor o igual qué D?: {menor_o_igual}\")"
      ],
      "metadata": {
        "colab": {
          "base_uri": "https://localhost:8080/"
        },
        "id": "o4hpJprCi4qw",
        "outputId": "e84b2e81-4aae-40fd-8829-a514716edc54"
      },
      "execution_count": null,
      "outputs": [
        {
          "output_type": "stream",
          "name": "stdout",
          "text": [
            "¿A mayor o igual qué B?: True\n",
            "¿C mayor o igual qué D?: True\n",
            "¿A menor o igual qué B?: False\n",
            "¿C menor o igual qué D?: True\n"
          ]
        }
      ]
    },
    {
      "cell_type": "code",
      "source": [
        "# Igualdad\n",
        "igualdad = a == b\n",
        "print(f\"¿A igual qué B?: {igualdad}\")\n",
        "igualdad = c == d\n",
        "print(f\"¿C igual qué D?: {igualdad}\")\n",
        "\n",
        "# Desigualdad\n",
        "desigualdad = a != b\n",
        "print(f\"¿A diferente qué B?: {desigualdad}\")\n",
        "desigualdad = c != d\n",
        "print(f\"¿C diferente qué D?: {desigualdad}\")"
      ],
      "metadata": {
        "colab": {
          "base_uri": "https://localhost:8080/"
        },
        "id": "XENPy6w_jhUu",
        "outputId": "54d3496e-daa8-441e-ed24-e222fe382b4b"
      },
      "execution_count": null,
      "outputs": [
        {
          "output_type": "stream",
          "name": "stdout",
          "text": [
            "¿A igual qué B?: False\n",
            "¿C igual qué D?: True\n",
            "¿A diferente qué B?: True\n",
            "¿C diferente qué D?: False\n"
          ]
        }
      ]
    },
    {
      "cell_type": "markdown",
      "source": [
        "### 5.3 Lógicos\n",
        "\n",
        "Otra forma de trabajar con los booleanos es con comparativos lógicos. ¡Operaciones entre más de un booleano!"
      ],
      "metadata": {
        "id": "4Zm4gRa3kIgj"
      }
    },
    {
      "cell_type": "code",
      "source": [
        "# Asignamos de nuevo nuestras variables por utlizar\n",
        "a = True\n",
        "b = False\n",
        "\n",
        "# AND\n",
        "AND = a and b\n",
        "print(f\"AND: {AND}\")\n",
        "\n",
        "# OR\n",
        "OR = a or b\n",
        "print(f\"OR: {OR}\")\n",
        "\n",
        "# NOT\n",
        "NOT = not a\n",
        "print(f\"NOT: {NOT}\")\n",
        "NOT = not b\n",
        "print(f\"NOT: {NOT}\")"
      ],
      "metadata": {
        "colab": {
          "base_uri": "https://localhost:8080/"
        },
        "id": "LnD_4_KRkKEJ",
        "outputId": "672de2ce-4ce7-4182-ec29-36c4538104f4"
      },
      "execution_count": null,
      "outputs": [
        {
          "output_type": "stream",
          "name": "stdout",
          "text": [
            "AND: False\n",
            "OR: True\n",
            "NOT: False\n",
            "NOT: True\n"
          ]
        }
      ]
    },
    {
      "cell_type": "markdown",
      "source": [
        "# Ejercicio de Práctica"
      ],
      "metadata": {
        "id": "9uQTZwYIlF8L"
      }
    },
    {
      "cell_type": "markdown",
      "source": [
        "Crea un programa en Python que:\n",
        "\n",
        "**Parte 1:**\n",
        "1. Pida al usuario su nombre.\n",
        "2. Pida cuántas horas trabajó en la semana.\n",
        "3. Asina tú cuánto gana por hora trabajada.\n",
        "4. Calcule el salario semanal (horas x pago por hora).\n",
        "5. Muestre en pantalla un mensaje como:\\\n",
        "Horas trabjadas de Nat: 20\n",
        "Salario de Nat: $1500\n",
        "\n",
        "**Parte 2:**\n",
        "1. Asigna a un trabajador llamado *Pipis* que gane $2000 a la semana.\n",
        "2. Elige algunos operadores de comparación, y di si gana más o menos que Pipis.\n",
        "3. Muestre en pantalla un mensaje como:\\\n",
        "¿Pipis gana más que usuario?: True"
      ],
      "metadata": {
        "id": "KCxYjMmOlKEY"
      }
    }
  ]
}