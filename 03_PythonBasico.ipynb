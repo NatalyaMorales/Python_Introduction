{
  "nbformat": 4,
  "nbformat_minor": 0,
  "metadata": {
    "colab": {
      "provenance": [],
      "toc_visible": true
    },
    "kernelspec": {
      "name": "python3",
      "display_name": "Python 3"
    },
    "language_info": {
      "name": "python"
    }
  },
  "cells": [
    {
      "cell_type": "markdown",
      "source": [
        "# Fundamentos de Python: Módulo 3\n",
        "\n",
        "Natalya Morales\\\n",
        "Septiembre, 2025\n",
        "\n",
        "En este tercer módulo se verá todo acerca de las funciones: parámetros, returns, valores por defecto, variables locales y globales, funciones anidadas y recursivas, documentación."
      ],
      "metadata": {
        "id": "dQ0omOG-E9p8"
      }
    },
    {
      "cell_type": "markdown",
      "source": [
        "# 1. Funciones\n",
        "\n",
        "Muchas veces necesitamos reutilizar código o hacerlo de una forma más estructurada y limpia. Para esto utilizamos las funciones.\\\n",
        "Tienen el siguiente formato\\\n",
        "```\n",
        "def nombre(parametros):\n",
        "    # Bloque de código\n",
        "    return resultado\n",
        "```\n",
        "\n",
        "Pero veamos poco a poco qué significa cada cosa..."
      ],
      "metadata": {
        "id": "Zy3ZberpFB7-"
      }
    },
    {
      "cell_type": "markdown",
      "source": [
        "## 1.1 Funciones base"
      ],
      "metadata": {
        "id": "Y71f2zGpF-c5"
      }
    },
    {
      "cell_type": "code",
      "source": [
        "# Declarar la función base\n",
        "def mi_funcion():\n",
        "  print(\"Estoy dentro de la función\")"
      ],
      "metadata": {
        "id": "KGAF2_vYE8LG"
      },
      "execution_count": 2,
      "outputs": []
    },
    {
      "cell_type": "code",
      "source": [
        "# Llamar a la función\n",
        "mi_funcion()"
      ],
      "metadata": {
        "colab": {
          "base_uri": "https://localhost:8080/"
        },
        "id": "RLFtVpX6GH4x",
        "outputId": "0a9cf99d-8290-4c83-c92b-464cf26ed278"
      },
      "execution_count": 3,
      "outputs": [
        {
          "output_type": "stream",
          "name": "stdout",
          "text": [
            "Estoy dentro de la función\n"
          ]
        }
      ]
    },
    {
      "cell_type": "markdown",
      "source": [
        "Podemos realizar una infinidad de cosas dentro de la función..."
      ],
      "metadata": {
        "id": "yo0-onnWG7w8"
      }
    },
    {
      "cell_type": "code",
      "source": [
        "# Declarar la función base\n",
        "def mi_funcion():\n",
        "  a = 1\n",
        "  b = 2\n",
        "  print(a + b)"
      ],
      "metadata": {
        "id": "0xTSOOqBG7dQ"
      },
      "execution_count": 4,
      "outputs": []
    },
    {
      "cell_type": "code",
      "source": [
        "# Llamar a la función\n",
        "mi_funcion()"
      ],
      "metadata": {
        "colab": {
          "base_uri": "https://localhost:8080/"
        },
        "id": "qk6rfLB6HH5t",
        "outputId": "17e85185-7fa2-4b73-8f6a-26e72bf46ad2"
      },
      "execution_count": 5,
      "outputs": [
        {
          "output_type": "stream",
          "name": "stdout",
          "text": [
            "3\n"
          ]
        }
      ]
    },
    {
      "cell_type": "markdown",
      "source": [
        "## 1.2 Función con parámetros\n",
        "\n",
        "Ahora, ¿qué pasa si queremos declarar nuestro *a* y *b* fuera de esta función?"
      ],
      "metadata": {
        "id": "Sv4peVOGHQ1z"
      }
    },
    {
      "cell_type": "code",
      "source": [
        "def mi_funcion_con_parametros(a, b):\n",
        "  print(a + b)"
      ],
      "metadata": {
        "id": "GCSLmMQ0HfCI"
      },
      "execution_count": 6,
      "outputs": []
    },
    {
      "cell_type": "code",
      "source": [
        "a = 2\n",
        "b = 3\n",
        "\n",
        "# Llamar a la función\n",
        "mi_funcion_con_parametros(a, b)"
      ],
      "metadata": {
        "colab": {
          "base_uri": "https://localhost:8080/"
        },
        "id": "u5KUCg03HSsx",
        "outputId": "ea75c5b9-49df-442a-9998-1d7f3eb69e11"
      },
      "execution_count": 10,
      "outputs": [
        {
          "output_type": "stream",
          "name": "stdout",
          "text": [
            "5\n"
          ]
        }
      ]
    },
    {
      "cell_type": "markdown",
      "source": [
        "También puedes pasarle los parámetros sin declarar las variables antes. Es decir: Pasar los valores directamente"
      ],
      "metadata": {
        "id": "reFlGbSJHq_a"
      }
    },
    {
      "cell_type": "code",
      "source": [
        "mi_funcion_con_parametros(2, 3)"
      ],
      "metadata": {
        "colab": {
          "base_uri": "https://localhost:8080/"
        },
        "id": "z4Bdvc_ZHx6D",
        "outputId": "44254f05-5946-470c-8e00-dd4662da846e"
      },
      "execution_count": 8,
      "outputs": [
        {
          "output_type": "stream",
          "name": "stdout",
          "text": [
            "5\n"
          ]
        }
      ]
    },
    {
      "cell_type": "markdown",
      "source": [
        "## 1.3 Función con return\n",
        "\n",
        "Tal vez nos gustaría poder almacenar lo que sucede dentro de la función y no solamente imprimirlo, para esto funciona el 'return'"
      ],
      "metadata": {
        "id": "jwF6Np8tIQ8j"
      }
    },
    {
      "cell_type": "code",
      "source": [
        "def mi_funcion_con_return(a, b):\n",
        "  return a + b"
      ],
      "metadata": {
        "id": "JYDUVvs5ISv7"
      },
      "execution_count": 9,
      "outputs": []
    },
    {
      "cell_type": "markdown",
      "source": [
        "Esta vez, lo que cambia es cómo se llama a la función, puesto que para llamarla, necesitamos una variable donde se almacene."
      ],
      "metadata": {
        "id": "NJfKwKl-IgGC"
      }
    },
    {
      "cell_type": "code",
      "source": [
        "# Llamar a la función\n",
        "resultado = mi_funcion_con_return(2, 3)\n",
        "print(resultado)"
      ],
      "metadata": {
        "colab": {
          "base_uri": "https://localhost:8080/"
        },
        "id": "RsZ1z6T5Iega",
        "outputId": "1d4e0657-8236-490e-c5ea-dfec8996f676"
      },
      "execution_count": 11,
      "outputs": [
        {
          "output_type": "stream",
          "name": "stdout",
          "text": [
            "5\n"
          ]
        }
      ]
    },
    {
      "cell_type": "markdown",
      "source": [
        "También puedes regresar más de un valor a la vez. ¿Recuerdas las tuplas?"
      ],
      "metadata": {
        "id": "l-rzD6dLI2Au"
      }
    },
    {
      "cell_type": "code",
      "source": [
        "def mi_funcion_con_dos_return(a, b):\n",
        "  suma = a + b\n",
        "  multiplicacion = a * b\n",
        "  return suma, multiplicacion"
      ],
      "metadata": {
        "id": "77rVJviLI7KD"
      },
      "execution_count": 12,
      "outputs": []
    },
    {
      "cell_type": "markdown",
      "source": [
        "Para devolver ambos valores, se deben asignar a dos variables:"
      ],
      "metadata": {
        "id": "etRXHyIxJHLs"
      }
    },
    {
      "cell_type": "code",
      "source": [
        "# Llamar a la función\n",
        "resultado_suma, resultado_multiplicacion = mi_funcion_con_dos_return(2, 3)\n",
        "print(resultado_suma)\n",
        "print(resultado_multiplicacion)"
      ],
      "metadata": {
        "colab": {
          "base_uri": "https://localhost:8080/"
        },
        "id": "saj8bTdCJLbF",
        "outputId": "5ea75fa1-7a3a-4a15-91b3-2e3c7650c07e"
      },
      "execution_count": 13,
      "outputs": [
        {
          "output_type": "stream",
          "name": "stdout",
          "text": [
            "5\n",
            "6\n"
          ]
        }
      ]
    },
    {
      "cell_type": "markdown",
      "source": [
        "¿Pero qué pasa si le regreso todo a la misma variable? Para esto necesitabamos recordar las tuplas:"
      ],
      "metadata": {
        "id": "AcMNbG_CJT45"
      }
    },
    {
      "cell_type": "code",
      "source": [
        "# Llamar a la función\n",
        "operaciones = mi_funcion_con_dos_return(2, 3)\n",
        "print(operaciones)"
      ],
      "metadata": {
        "colab": {
          "base_uri": "https://localhost:8080/"
        },
        "id": "8WRkf1yKJZ3y",
        "outputId": "4fd05598-7a4d-47ce-8e70-89af97a2f378"
      },
      "execution_count": 14,
      "outputs": [
        {
          "output_type": "stream",
          "name": "stdout",
          "text": [
            "(5, 6)\n"
          ]
        }
      ]
    },
    {
      "cell_type": "markdown",
      "source": [
        "¡Una tupla! Nuestras variables se almacenan juntas en una tupla. ¿Y si queremos separarla después?"
      ],
      "metadata": {
        "id": "vp1wDgRHJgb3"
      }
    },
    {
      "cell_type": "code",
      "source": [
        "suma, multiplicacion = operaciones\n",
        "print(suma)\n",
        "print(multiplicacion)"
      ],
      "metadata": {
        "colab": {
          "base_uri": "https://localhost:8080/"
        },
        "id": "qDSOVJrLJnR0",
        "outputId": "6ff379af-8d1b-4acd-fdcd-6d50c11ae0b6"
      },
      "execution_count": 15,
      "outputs": [
        {
          "output_type": "stream",
          "name": "stdout",
          "text": [
            "5\n",
            "6\n"
          ]
        }
      ]
    },
    {
      "cell_type": "markdown",
      "source": [
        "## 1.4 Valores por defecto\n",
        "\n",
        "A veces queremos que alguno de los valores se mantenga siempre... Para esto podemos agregar algunos valores por defecto, pero mantenerlo en los parámetros por si alguna vez lo queremos cambiar."
      ],
      "metadata": {
        "id": "gRSaXJhEJ1ka"
      }
    },
    {
      "cell_type": "code",
      "source": [
        "def propina(total_cuenta, porcentaje = 10):\n",
        "  porcentaje_propina = porcentaje / 100\n",
        "  print(total_cuenta * porcentaje_propina)"
      ],
      "metadata": {
        "id": "c-BYn5-hKHbQ"
      },
      "execution_count": 26,
      "outputs": []
    },
    {
      "cell_type": "code",
      "source": [
        "# Llamar a la función\n",
        "propina(532)"
      ],
      "metadata": {
        "colab": {
          "base_uri": "https://localhost:8080/"
        },
        "id": "2dKr-ZEyKKqi",
        "outputId": "0b183e24-8864-4557-ef8f-fab46909533e"
      },
      "execution_count": 27,
      "outputs": [
        {
          "output_type": "stream",
          "name": "stdout",
          "text": [
            "53.2\n"
          ]
        }
      ]
    },
    {
      "cell_type": "markdown",
      "source": [
        "Hubo un muy buen servicio y esta vez quiero dar el 15% de propina:"
      ],
      "metadata": {
        "id": "g1gZ8dFSKgVF"
      }
    },
    {
      "cell_type": "code",
      "source": [
        "# Llamar a la función\n",
        "propina(532, 15)"
      ],
      "metadata": {
        "colab": {
          "base_uri": "https://localhost:8080/"
        },
        "id": "BaPnwLWqKvc4",
        "outputId": "0fda823c-08d6-4154-e076-8939d2edd2f8"
      },
      "execution_count": 28,
      "outputs": [
        {
          "output_type": "stream",
          "name": "stdout",
          "text": [
            "79.8\n"
          ]
        }
      ]
    },
    {
      "cell_type": "markdown",
      "source": [
        "## 2. Variables locales y globales\n",
        "\n",
        "Hasta ahora hemos utilizado el mismo nombre adentro y fuera de la función, como en el caso de 'a' y 'b', pero es importante comprender que no son la misma variable."
      ],
      "metadata": {
        "id": "-A4WGu6YLKbB"
      }
    },
    {
      "cell_type": "code",
      "source": [
        "def mi_funcion(a, b):\n",
        "  print(a + b)"
      ],
      "metadata": {
        "id": "XOhoOW1KLUBV"
      },
      "execution_count": 29,
      "outputs": []
    },
    {
      "cell_type": "code",
      "source": [
        "# Celda fuera de la función\n",
        "a = 4\n",
        "b = 5\n",
        "mi_funcion(a, b)"
      ],
      "metadata": {
        "colab": {
          "base_uri": "https://localhost:8080/"
        },
        "id": "WwFr5CezL4lj",
        "outputId": "957b335a-dd02-4768-b87d-9f8975ecaebf"
      },
      "execution_count": 30,
      "outputs": [
        {
          "output_type": "stream",
          "name": "stdout",
          "text": [
            "9\n"
          ]
        }
      ]
    },
    {
      "cell_type": "markdown",
      "source": [
        "Regresemos a lo primero que vimos.\\\n",
        "En este caso, el a y b de la función, no son la misma variable que el a y b de la celda fuera de la función. Para verlo, veamos que podemos ponerle x, y a la hora de llamar la función."
      ],
      "metadata": {
        "id": "yhmFmFn2MFaF"
      }
    },
    {
      "cell_type": "code",
      "source": [
        "x = 4\n",
        "y = 5\n",
        "mi_funcion(x, y)"
      ],
      "metadata": {
        "colab": {
          "base_uri": "https://localhost:8080/"
        },
        "id": "GceKvP4KMdXX",
        "outputId": "9806ff87-f6f1-4932-f8b0-02618fe1a09d"
      },
      "execution_count": 32,
      "outputs": [
        {
          "output_type": "stream",
          "name": "stdout",
          "text": [
            "9\n"
          ]
        }
      ]
    },
    {
      "cell_type": "markdown",
      "source": [
        "Ya que comprendimos esto. Veamos que las variables de adentro, no existen afuerza y viceversa."
      ],
      "metadata": {
        "id": "T85VEXylMt5R"
      }
    },
    {
      "cell_type": "code",
      "source": [
        "def mi_funcion():\n",
        "  c = 5\n",
        "  print(f\"valor de c dentro de la función: {c}\")"
      ],
      "metadata": {
        "id": "ALZRjAeXMho_"
      },
      "execution_count": 36,
      "outputs": []
    },
    {
      "cell_type": "code",
      "source": [
        "c = 10\n",
        "\n",
        "print(f\"valor de c fuera de la función: {c}\")\n",
        "\n",
        "mi_funcion()\n",
        "\n",
        "print(f\"valor de c fuera de la función: {c}\")"
      ],
      "metadata": {
        "colab": {
          "base_uri": "https://localhost:8080/"
        },
        "id": "7YuHVXe9NFcE",
        "outputId": "f2e5d2ba-2e36-4995-9576-31d1dd125225"
      },
      "execution_count": 38,
      "outputs": [
        {
          "output_type": "stream",
          "name": "stdout",
          "text": [
            "valor de c fuera de la función: 10\n",
            "valor de c dentro de la función: 5\n",
            "valor de c fuera de la función: 10\n"
          ]
        }
      ]
    },
    {
      "cell_type": "markdown",
      "source": [
        "Con esto podemos comprender las diferencias:\n",
        "- La variable dentro de la función es una **variable local**\n",
        "- La variable fuera de la función es una **variable global**\n",
        "\n",
        "**Importante:** Aunque se llame \"global\", estas variables NO existen dentro de las funciones. Dentro de las funciones solo existen las variables que se declaran dentro de ellas, o las variables de los parámetros."
      ],
      "metadata": {
        "id": "q4ACntuONf-q"
      }
    },
    {
      "cell_type": "markdown",
      "source": [
        "## 3. Funciones anidadas y recursivas"
      ],
      "metadata": {
        "id": "itOs-rH-OJ4O"
      }
    },
    {
      "cell_type": "markdown",
      "source": [
        "### 3.1 Anidadas\n",
        "\n",
        "Podemos llamar a una función dentro de otra función"
      ],
      "metadata": {
        "id": "7eafIgzPOWL_"
      }
    },
    {
      "cell_type": "code",
      "source": [
        "def calcular_porcentaje(num):\n",
        "  porcentaje = num / 100\n",
        "  return porcentaje"
      ],
      "metadata": {
        "id": "4-P8U77VO5mO"
      },
      "execution_count": 39,
      "outputs": []
    },
    {
      "cell_type": "code",
      "source": [
        "def calcular_propina(total_cuenta, porcentaje_propina=10):\n",
        "  # Llamar a la función anterior\n",
        "  porcentaje = calcular_porcentaje(porcentaje_propina)\n",
        "  print(total_cuenta * porcentaje)"
      ],
      "metadata": {
        "id": "goIkxLljOSjv"
      },
      "execution_count": 42,
      "outputs": []
    },
    {
      "cell_type": "code",
      "source": [
        "# Llamar a la función principal\n",
        "calcular_propina(457)"
      ],
      "metadata": {
        "colab": {
          "base_uri": "https://localhost:8080/"
        },
        "id": "Df6YtVEvPL3w",
        "outputId": "38b4b8bd-44fe-478a-bfa4-915b34d938d2"
      },
      "execution_count": 43,
      "outputs": [
        {
          "output_type": "stream",
          "name": "stdout",
          "text": [
            "45.7\n"
          ]
        }
      ]
    },
    {
      "cell_type": "markdown",
      "source": [
        "Pero también podemos crear una función dentro de otra función. Esto es útil cuando tenemos variables locales."
      ],
      "metadata": {
        "id": "Bz0F0BAVPY7Z"
      }
    },
    {
      "cell_type": "code",
      "source": [
        "def calcular_propina(total_cuenta, porcentaje_propina=10):\n",
        "\n",
        "  def calcular_porcentaje(num):\n",
        "    porcentaje = num / 100\n",
        "    return porcentaje\n",
        "\n",
        "  porcentaje = calcular_porcentaje(porcentaje_propina)\n",
        "  print(total_cuenta * porcentaje)"
      ],
      "metadata": {
        "id": "hid_0bn5PgPi"
      },
      "execution_count": 44,
      "outputs": []
    },
    {
      "cell_type": "code",
      "source": [
        "# Llamar a la función principal\n",
        "calcular_propina(457)"
      ],
      "metadata": {
        "colab": {
          "base_uri": "https://localhost:8080/"
        },
        "id": "ZL8WgVD0PxZ-",
        "outputId": "5b50b2a8-abeb-439d-84e7-218c9eaa0eb9"
      },
      "execution_count": 45,
      "outputs": [
        {
          "output_type": "stream",
          "name": "stdout",
          "text": [
            "45.7\n"
          ]
        }
      ]
    },
    {
      "cell_type": "markdown",
      "source": [
        "### 3.2 Funciones recursivas\n",
        "\n",
        "Otra cosa similar es poder llamar a la función... Dentro de la misma función.\\\n",
        "¿Cómo funciona? Veamos el ejemplo más clásico con el factorial:\n",
        "\n",
        "La definición de un número factorial ($n!$) es la siguiente:\\\n",
        "$n * n-1 * n-2 * ... * 1$\n",
        "\n",
        "Ejemplo:\\\n",
        "$4! = 4*3*2*1 = 24$"
      ],
      "metadata": {
        "id": "BCbko_O1QHO5"
      }
    },
    {
      "cell_type": "code",
      "source": [
        "def factorial(n):\n",
        "  if n == 1:\n",
        "    return 1\n",
        "  else:\n",
        "    return n * factorial(n-1)"
      ],
      "metadata": {
        "id": "q8SUR8UzQJeF"
      },
      "execution_count": 47,
      "outputs": []
    },
    {
      "cell_type": "markdown",
      "source": [
        "**Explicación:**\n",
        "Si $n$ NO es 1, multiplica $n$ por el factorial de $n-1$.\n",
        "\n",
        "¿Cuál es el factorial de $n-1$?\\\n",
        "$n-1 * n-2 * n-3 * ... * 1$\n",
        "\n",
        "Entonces, se llamará recursivamente hasta llegar al $1$, donde regresará la unidad."
      ],
      "metadata": {
        "id": "ZXF6IAK1RI_A"
      }
    },
    {
      "cell_type": "code",
      "source": [
        "resultado = factorial(4)\n",
        "print(resultado)"
      ],
      "metadata": {
        "colab": {
          "base_uri": "https://localhost:8080/"
        },
        "id": "jALd-A8KRkQt",
        "outputId": "be4bbf25-8a77-42e4-eaad-de2054fd9bfc"
      },
      "execution_count": 48,
      "outputs": [
        {
          "output_type": "stream",
          "name": "stdout",
          "text": [
            "24\n"
          ]
        }
      ]
    },
    {
      "cell_type": "markdown",
      "source": [
        "## 4. Documentación\n",
        "\n",
        "¿Sabías que las funciones tienen su propio formato APA? No es cierto xd. Pero si se tiene una forma de documentarlos para que se comprenda su objetivo:"
      ],
      "metadata": {
        "id": "VFMPPOd-R2CZ"
      }
    },
    {
      "cell_type": "code",
      "source": [
        "# Utilizamos un comentario de muchos renglones:\n",
        "\n",
        "\"\"\"\n",
        "Explicación breve de lo que hace la función\n",
        "\n",
        "Args:\n",
        "    Parámetros1 (tipo de dato): Descripción del parámetro\n",
        "    Parámetros2 (tipo de dato): Descripción del parámetro\n",
        "\n",
        "Returns:\n",
        "    Return1 (tipo de dato): Descripción del return\n",
        "    Retur2 (tipo de dato): Descripción del return\n",
        "\"\"\""
      ],
      "metadata": {
        "id": "D7S4UExvSEjC"
      },
      "execution_count": null,
      "outputs": []
    },
    {
      "cell_type": "markdown",
      "source": [
        "Veamos un ejemplo:"
      ],
      "metadata": {
        "id": "BkqVeCCsS5rA"
      }
    },
    {
      "cell_type": "code",
      "source": [
        "def propina(total_cuenta, porcentaje = 10):\n",
        "  \"\"\"\n",
        "  Función que te dice cuánto se debe de dar de propina\n",
        "\n",
        "  Args:\n",
        "      total_cuenta (float): Total de la cuenta\n",
        "      porcentaje (float): Porcentaje de propina\n",
        "\n",
        "  Returns:\n",
        "      propina (float): Cantidad de propina\n",
        "  \"\"\"\n",
        "  porcentaje_propina = porcentaje / 100\n",
        "  propina = total_cuenta * porcentaje_propina\n",
        "\n",
        "  return propina"
      ],
      "metadata": {
        "id": "2gLuDM4tS9AT"
      },
      "execution_count": null,
      "outputs": []
    },
    {
      "cell_type": "markdown",
      "source": [
        "Esto sirve principalmente para funciones grandes. Por ahora no parece importante, pero entre más avanzados sean los códigos, más importante es. La documentación también puede ser útil para que sea fácil de notar los parámetros y retornos de la función."
      ],
      "metadata": {
        "id": "cmCcrQNFTbSD"
      }
    },
    {
      "cell_type": "markdown",
      "source": [
        "# Ejercicio de Práctica"
      ],
      "metadata": {
        "id": "NAcPBU4mT1HG"
      }
    },
    {
      "cell_type": "markdown",
      "source": [
        "Crea un programa en Python qué:\\\n",
        "**Parte 1:**\n",
        "1. Crea una función que convierta grados Celsius a Fahrenheit\n",
        "2. Pidele al usuario que te de $x$ grados a convertir\n",
        "3. Devuelvele al usuario los grados que te dió en Fahrenheit\n",
        "\n",
        "**Parte 2:**\n",
        "1. Crea una función que te diga si un número es par o impar\\\n",
        "(*Pista:* Recuerda las operaciones vistas en el Módulo 1, en específico la operación que te da el resiudo)\n",
        "2. Pidele al usuario un número\n",
        "3. Devuelvele si es par o impar"
      ],
      "metadata": {
        "id": "NGVCl7SJUIYc"
      }
    }
  ]
}