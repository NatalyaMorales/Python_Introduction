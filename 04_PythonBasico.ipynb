{
  "nbformat": 4,
  "nbformat_minor": 0,
  "metadata": {
    "colab": {
      "provenance": [],
      "toc_visible": true
    },
    "kernelspec": {
      "name": "python3",
      "display_name": "Python 3"
    },
    "language_info": {
      "name": "python"
    }
  },
  "cells": [
    {
      "cell_type": "markdown",
      "source": [
        "# Fundamentos de Python: Módulo 4\n",
        "\n",
        "Natalya Morales\\\n",
        "Septiembre, 2025\n",
        "\n",
        "En este cuarto módulo veremos estructuras de datos, pero más avanzadas: Pilas, Colas, Matrices, y una introducción a Árboles."
      ],
      "metadata": {
        "id": "-gtHEG3tXnhN"
      }
    },
    {
      "cell_type": "markdown",
      "source": [
        "## 1. Pilas (Stack)\n",
        "\n",
        "Recuerdas las listas... Esta estructura utiliza como base la lista, pero pensemosla de forma independiente.\n",
        "\n",
        "Las pilas tienen el principio LIFO (Last in, First Out), en español: el primero que entra es el primero que sale. Pensemos en una pila de libros, si intentamos sacar el de hasta abajo, podrían caerse todos los libros, así que quitamos primero el de hasta arriba, luego el siguiente y así sucesivamente...\n",
        "\n",
        "Para agregar y eliminar elementos de una pila, se utilza lo siguiente:\n",
        "- Agregar: push\\\n",
        "Agrega un elemento hasta 'arriba' de la pila\n",
        "- Eliminar: pop\\\n",
        "'Sacar' el elemento de hasta 'arriba'\n",
        "\n",
        "Como en Python utiliza la base de una lista, entonces para agregar usamos la siguiente sintaxis:"
      ],
      "metadata": {
        "id": "cWvOI2PmX4MX"
      }
    },
    {
      "cell_type": "code",
      "execution_count": 4,
      "metadata": {
        "colab": {
          "base_uri": "https://localhost:8080/"
        },
        "id": "V2edPCyFXi_n",
        "outputId": "2e420bae-5a0d-445d-8670-51b144db4340"
      },
      "outputs": [
        {
          "output_type": "stream",
          "name": "stdout",
          "text": [
            "[3, 4, 5]\n",
            "Agregando dos elementos...\n",
            "[3, 4, 5, 6, 7]\n"
          ]
        }
      ],
      "source": [
        "pila = [3, 4, 5]\n",
        "print(pila)\n",
        "\n",
        "print(\"Agregando dos elementos...\")\n",
        "# push (append): Agregar un elemento al final de la pila\n",
        "pila.append(6)\n",
        "pila.append(7)\n",
        "print(pila)"
      ]
    },
    {
      "cell_type": "code",
      "source": [
        "# pop: Sacar el elemento final de la pila\n",
        "ultimo = pila.pop()\n",
        "print(f\"Elemento sacado:\", ultimo)\n",
        "print(pila)"
      ],
      "metadata": {
        "colab": {
          "base_uri": "https://localhost:8080/"
        },
        "id": "zlGSZbnRaD14",
        "outputId": "827b87ac-85d8-4014-bf74-dee7d9b5781c"
      },
      "execution_count": 5,
      "outputs": [
        {
          "output_type": "stream",
          "name": "stdout",
          "text": [
            "Elemento sacado: 7\n",
            "[3, 4, 5, 6]\n"
          ]
        }
      ]
    },
    {
      "cell_type": "markdown",
      "source": [
        "## 2. Colas (Queue)\n",
        "\n",
        "Las colas también usan como base las listas, la diferencia con las Pilas es que usa el principio FIFO (First In, First Out), en español: El primero que entra es el primero que sale. Pensemos en una cola (fila) del supermercado, el primero que se forma, es el primero en ser atendido y así se van atendiendo conforme fueron llegando...\n",
        "\n",
        "Para agregar y eliminar elementos de una pila, se utilza lo siguiente:\n",
        "- Agregar: enqueue\\\n",
        "Agrega un elemento hasta el 'final' de la cola\n",
        "- Eliminar: dequeue\\\n",
        "'Sacar' el elemento de hasta 'adelante'\n",
        "\n",
        "En python se usa la base de una lista, pero convirtiendola a cola..."
      ],
      "metadata": {
        "id": "z7pOCNNlaitf"
      }
    },
    {
      "cell_type": "markdown",
      "source": [
        "Para poder convertirla a cola vamos a hacer uso de una **librería**.\n",
        "\n",
        "*¿Qué es una librería?*\\\n",
        "Una librería es un conjunto de código ya escrito por otras personas que podemos aprovechar en nuestros programas.\n",
        "En lugar de programar todo desde cero, podemos importar esas funciones o herramientas y usarlas directamente.\n",
        "\n",
        "*Formas de importar una librería en Python:*\n",
        "- Improtar toda la librería:\\\n",
        "```\n",
        "import librería\n",
        "```\n",
        "- Importar solo una parte de la librería:\n",
        "```\n",
        "from librería import función\n",
        "from librería import clase\n",
        "```\n",
        "Usaremos la forma que nos convenga dependiendo a lo que necesitamos.\n",
        "\n",
        "En este caso solo utilizaremos una parte en específico:"
      ],
      "metadata": {
        "id": "hUqFOTkLiBgU"
      }
    },
    {
      "cell_type": "code",
      "source": [
        "from collections import deque"
      ],
      "metadata": {
        "id": "S9deYGYcjr-t"
      },
      "execution_count": 6,
      "outputs": []
    },
    {
      "cell_type": "markdown",
      "source": [
        "de esta librería estamos llamando a la clase deque, con lo cuál podremos utilizar:\n",
        "```\n",
        "deque()     # Para crear una nueva cola\n",
        ".append()   # Para agregar elementos al final\n",
        ".popleft()  # Para sacar elementos del inicio\n",
        "```"
      ],
      "metadata": {
        "id": "b4wUw-GGj19z"
      }
    },
    {
      "cell_type": "code",
      "source": [
        "mi_lista = [3, 4, 5]\n",
        "\n",
        "# Transformar mi lista a cola\n",
        "cola = deque(mi_lista)\n",
        "print(cola)\n",
        "\n",
        "print(\"Agregando dos elementos...\")\n",
        "# enqueue (append): Agregar un elemento al final de la cola\n",
        "cola.append(6)\n",
        "cola.append(7)\n",
        "print(cola)\n"
      ],
      "metadata": {
        "colab": {
          "base_uri": "https://localhost:8080/"
        },
        "id": "vhX1lk3zhVhE",
        "outputId": "caa96b98-4a34-4554-aec5-5cc8f56f38b6"
      },
      "execution_count": 9,
      "outputs": [
        {
          "output_type": "stream",
          "name": "stdout",
          "text": [
            "deque([3, 4, 5])\n",
            "Agregando dos elementos...\n",
            "deque([3, 4, 5, 6, 7])\n"
          ]
        }
      ]
    },
    {
      "cell_type": "code",
      "source": [
        "# dequeue: Sacar el elemento primero de la cola\n",
        "ultimo = cola.popleft()\n",
        "print(f\"Elemento sacado:\", ultimo)\n",
        "print(cola)"
      ],
      "metadata": {
        "colab": {
          "base_uri": "https://localhost:8080/"
        },
        "id": "ljjmqfZ5hlNC",
        "outputId": "050df130-9644-4daf-947f-eda3d672e974"
      },
      "execution_count": 10,
      "outputs": [
        {
          "output_type": "stream",
          "name": "stdout",
          "text": [
            "Elemento sacado: 3\n",
            "deque([4, 5, 6, 7])\n"
          ]
        }
      ]
    },
    {
      "cell_type": "markdown",
      "source": [
        "## 3. Matrices\n",
        "\n",
        "Una matriz es una estructura de dos dimenciones (filas x columnas). En Python se puede representar como una **lista de listas**"
      ],
      "metadata": {
        "id": "yV1Bx1mklgcr"
      }
    },
    {
      "cell_type": "code",
      "source": [
        "matriz = [\n",
        "         [1, 2, 3],\n",
        "         [4, 5, 6],\n",
        "         [7, 8, 9]\n",
        "         ]\n",
        "print(matriz)"
      ],
      "metadata": {
        "colab": {
          "base_uri": "https://localhost:8080/"
        },
        "id": "IKFxTmUWli4q",
        "outputId": "5e631904-7e34-48ab-c591-80eab819d903"
      },
      "execution_count": 11,
      "outputs": [
        {
          "output_type": "stream",
          "name": "stdout",
          "text": [
            "[[1, 2, 3], [4, 5, 6], [7, 8, 9]]\n"
          ]
        }
      ]
    },
    {
      "cell_type": "markdown",
      "source": [
        "Para entender de mejor forma su estructura, desglosemos su forma:"
      ],
      "metadata": {
        "id": "hdPL5CrsmEdt"
      }
    },
    {
      "cell_type": "code",
      "source": [
        "lista_1 = [1, 2, 3]\n",
        "lista_2 = [4, 5, 6]\n",
        "lista_3 = [7, 8, 9]\n",
        "\n",
        "matriz = [lista_1, lista_2]\n",
        "print(matriz)\n",
        "\n",
        "# Y también podemos agregar y elementos como en las listas\n",
        "matriz.append(lista_3)\n",
        "print(matriz)"
      ],
      "metadata": {
        "colab": {
          "base_uri": "https://localhost:8080/"
        },
        "id": "FLKMui-umN7J",
        "outputId": "06de0ad9-2873-4672-984d-5badbeaddfe4"
      },
      "execution_count": 12,
      "outputs": [
        {
          "output_type": "stream",
          "name": "stdout",
          "text": [
            "[[1, 2, 3], [4, 5, 6]]\n",
            "[[1, 2, 3], [4, 5, 6], [7, 8, 9]]\n"
          ]
        }
      ]
    },
    {
      "cell_type": "markdown",
      "source": [
        "Ahora, ¿Qué sucede si accedemos a un elemento de esta matriz?"
      ],
      "metadata": {
        "id": "GSfJ-EL8mZNV"
      }
    },
    {
      "cell_type": "code",
      "source": [
        "print(matriz[0])"
      ],
      "metadata": {
        "colab": {
          "base_uri": "https://localhost:8080/"
        },
        "id": "fnMMlb1jmdsY",
        "outputId": "d3a19c24-6031-498d-82c8-72b862d9c162"
      },
      "execution_count": 14,
      "outputs": [
        {
          "output_type": "stream",
          "name": "stdout",
          "text": [
            "[1, 2, 3]\n"
          ]
        }
      ]
    },
    {
      "cell_type": "markdown",
      "source": [
        "Nos devuelve una lista completa, es decir la fila $n$.\n",
        "\n",
        "¿Y si queremos acceder a un elemento en específico? Para esto debemos indicar el número de fila dentro de un primer corchete [] y después el número de columna en otro corchete []\n",
        "\n",
        "**Recordatorio:** los índices en python de fila y columna inician en $0$."
      ],
      "metadata": {
        "id": "kZtoUEuVmgSC"
      }
    },
    {
      "cell_type": "code",
      "source": [
        "# Imprimir el elemento 2 de la fila 0\n",
        "print(matriz[0][2])"
      ],
      "metadata": {
        "colab": {
          "base_uri": "https://localhost:8080/"
        },
        "id": "X8E3c7vomfkl",
        "outputId": "087dfdc1-345b-4c64-8705-2fb508bb80d0"
      },
      "execution_count": 15,
      "outputs": [
        {
          "output_type": "stream",
          "name": "stdout",
          "text": [
            "3\n"
          ]
        }
      ]
    },
    {
      "cell_type": "markdown",
      "source": [
        "¿Recuerdas que podemos en Python podemos recorrer las listas dentro de un ciclo for?\n",
        "```\n",
        "for elemento in lista:\n",
        "  print(elemento)\n",
        "```\n",
        "Para poder recorrer las matrices vamos a hacer algo parecido, pero primero necesitamos recorrer las filas y luego los elementos de cada fila."
      ],
      "metadata": {
        "id": "diU4GqBxnQwt"
      }
    },
    {
      "cell_type": "code",
      "source": [
        "for fila in matriz:\n",
        "  print(fila)\n",
        "  for elemento in fila:\n",
        "    print(elemento)"
      ],
      "metadata": {
        "colab": {
          "base_uri": "https://localhost:8080/"
        },
        "id": "ABKkdTuWnnjH",
        "outputId": "c12ead06-271f-4cf6-9263-551e5894027c"
      },
      "execution_count": 16,
      "outputs": [
        {
          "output_type": "stream",
          "name": "stdout",
          "text": [
            "[1, 2, 3]\n",
            "1\n",
            "2\n",
            "3\n",
            "[4, 5, 6]\n",
            "4\n",
            "5\n",
            "6\n",
            "[7, 8, 9]\n",
            "7\n",
            "8\n",
            "9\n"
          ]
        }
      ]
    },
    {
      "cell_type": "markdown",
      "source": [
        "## 4. Árboles\n",
        "\n",
        "Otra estructura importante son los árboles, pero para estos necesitamos conceptos más avanzados... Por lo que por ahora veamos solo una definición básica.\n",
        "\n",
        "Un árbol es una estructura jerárquica que consta de los siguientes elementos:\n",
        "- Nodos\n",
        "  - Nodos padres\n",
        "  - Nodos hijos\n",
        "- Raíz: Aquel nodo padre no tiene nodo padre (inicio del árbol)\n",
        "- Hojas: Aquellos nodos hijos que no son nodo padre de nadie (final del árbol)\n",
        "\n",
        "Normalmente los árboles se programan en una clase, pero como aún no hemos visto qué es una clase, por ahora veamos una forma simple con diccionarios:"
      ],
      "metadata": {
        "id": "PcJV1xnpn-i2"
      }
    },
    {
      "cell_type": "code",
      "source": [
        "arbol = {\n",
        "    \"A\": [\"B\", \"C\"],\n",
        "    \"B\": [\"D\", \"E\"],\n",
        "    \"C\": [\"F\"],\n",
        "    \"D\": [], \"E\": [], \"F\": []\n",
        "}\n",
        "\n",
        "print(arbol)"
      ],
      "metadata": {
        "colab": {
          "base_uri": "https://localhost:8080/"
        },
        "id": "qW0RTD6Fo5MI",
        "outputId": "ae6945f3-df04-4df5-d155-76f0b2e1efba"
      },
      "execution_count": 19,
      "outputs": [
        {
          "output_type": "stream",
          "name": "stdout",
          "text": [
            "{'A': ['B', 'C'], 'B': ['D', 'E'], 'C': ['F'], 'D': [], 'E': [], 'F': []}\n"
          ]
        }
      ]
    },
    {
      "cell_type": "markdown",
      "source": [
        "En este caso el nodo padre es 'A', y tiene a dos nodos hijos: 'B' y 'C', a su vez, 'B' es nodo patre de 'D' y 'E', mientras que 'C' es nodo padre de 'F', pero 'D', 'E' y 'F', aunque son nodos hijos de alguien, no son padres de nadie, por lo tanto son hojas."
      ],
      "metadata": {
        "id": "5JF4BKOgpAQz"
      }
    },
    {
      "cell_type": "markdown",
      "source": [
        "**A futuro...**\\\n",
        "Algo muy importante de los árboles es su forma de recorrerlos, pero también los diferentes tipos. Pero esto es algo que veremos más adelante..."
      ],
      "metadata": {
        "id": "YZPn1VFJp2Ib"
      }
    },
    {
      "cell_type": "markdown",
      "source": [
        "# Ejercicio de Práctica"
      ],
      "metadata": {
        "id": "izGFBUYUqKGk"
      }
    },
    {
      "cell_type": "markdown",
      "source": [
        "Crea un programa en Python qué:\\\n",
        "**Parte 1**\n",
        "1. Pidele al usuario que te de una palabra\n",
        "2. Utiliza la estructura que más veas conveniente e incerta cada elemento de la palabra en una lista\n",
        "3. Devuelvele al usuario la palabra que te dió, pero volteada\n",
        "\n",
        "**Parte 2**\n",
        "1. Agrega 3 nombres en una lista\n",
        "2. Convierte esta lista a la estructura que más veas conveniente\n",
        "3. Pidele al usuario su nombre\n",
        "4. Si su nombre no está en la lista, agregalo hasta el final\n",
        "6. Simula una breve fila donde se van atendiendo todos los nombres en la lista, termina cuando salga el nombre del usuario.\n",
        "\n",
        "**Parte 3**\n",
        "1. Crea una matriz de 3x3\n",
        "2. Imprime la matriz y pidele al usuario un número del 0 al 2\n",
        "3. Devuelvele la suma de la fila que te dio\n",
        "4. Repite los pasos 2 y 3 para devolver la suma de la columna."
      ],
      "metadata": {
        "id": "Y8E7g_5wqPdh"
      }
    },
    {
      "cell_type": "markdown",
      "source": [
        "**Pista:** ¿Sabías que a los STR también puedes sumarle letras?"
      ],
      "metadata": {
        "id": "PEhFpYKytQgL"
      }
    },
    {
      "cell_type": "code",
      "source": [
        "# Ejemplo\n",
        "Palabra = \"Nat\"\n",
        "print(Palabra)\n",
        "Palabra += \"y\"\n",
        "print(Palabra)"
      ],
      "metadata": {
        "colab": {
          "base_uri": "https://localhost:8080/"
        },
        "id": "OzaS8LRTtIUI",
        "outputId": "efb4a2c8-6b18-4c5e-8b0e-ebf27f8305f0"
      },
      "execution_count": 21,
      "outputs": [
        {
          "output_type": "stream",
          "name": "stdout",
          "text": [
            "Nat\n",
            "Naty\n"
          ]
        }
      ]
    }
  ]
}